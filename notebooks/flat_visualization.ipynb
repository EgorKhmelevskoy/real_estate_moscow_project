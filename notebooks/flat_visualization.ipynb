{
 "cells": [
  {
   "cell_type": "code",
   "execution_count": null,
   "id": "bed1830c",
   "metadata": {},
   "outputs": [],
   "source": [
    "import numpy as np\n",
    "import pandas as pd\n",
    "import re\n",
    "import warnings\n",
    "import plotly.express as px\n",
    "import plotly.graph_objects as go\n",
    "warnings.filterwarnings('ignore')"
   ]
  },
  {
   "cell_type": "code",
   "execution_count": null,
   "id": "521ff6d8",
   "metadata": {},
   "outputs": [],
   "source": [
    "DF = pd.read_csv('final_flats_data.csv', index_col = 'Unnamed: 0')"
   ]
  },
  {
   "cell_type": "code",
   "execution_count": null,
   "id": "ba701fd8",
   "metadata": {},
   "outputs": [],
   "source": [
    "DF.head()"
   ]
  },
  {
   "cell_type": "code",
   "execution_count": null,
   "id": "28a4b449",
   "metadata": {},
   "outputs": [],
   "source": [
    "def prepare_df(df):\n",
    "    df = df.copy()\n",
    "    df['Количество комнат'] = df['Количество комнат'].map(lambda x: re.sub(\n",
    "        '[c, с]тудия', '0.5', x.replace('> 9', '10')) if type(x) == str else x).astype(float)\n",
    "    df['Количество комнат'] = df['Количество комнат'].where(df['Количество комнат'] < 10, 10)\n",
    "    df['Округ'] = df['Округ'].map(lambda s: ''.join([x[0].upper() for x in re.split('-| ', s)]))\n",
    "    df[\"Цена за м2\"] = df['Цена']/df['Площадь']\n",
    "    return df\n",
    "new_DF = prepare_df(DF)                             "
   ]
  },
  {
   "cell_type": "code",
   "execution_count": null,
   "id": "79a83274",
   "metadata": {},
   "outputs": [],
   "source": [
    "def plot_bar(df, col, stat, groupby, hue = None, fig = 'bar', orientation = 'v', w = 1000, h = 600, sort = True):\n",
    "    df = df.copy()\n",
    "    if hue == 'год' or groupby == 'год':\n",
    "        year = pd.to_datetime(df['Время загрузки']).dt.year\n",
    "        year.name = 'год'\n",
    "        df = pd.concat([df, year], axis = 1)\n",
    "    if hue == 'месяц' or groupby == 'месяц':\n",
    "        month = pd.to_datetime(df['Время загрузки']).dt.strftime('%Y-%m')\n",
    "        month.name = 'месяц'\n",
    "        df = pd.concat([df, month], axis = 1)\n",
    "    \n",
    "    if hue is None:\n",
    "        gr_cols = groupby\n",
    "    else:\n",
    "        gr_cols = [groupby, hue]\n",
    "    for_bar = df.groupby(gr_cols, as_index = False).agg({col: stat}).astype({groupby: str})\n",
    "    if sort:\n",
    "        for_bar = for_bar.sort_values(col)\n",
    "    #display(for_bar)\n",
    "    if orientation == 'v':\n",
    "        x = groupby \n",
    "        y = col\n",
    "    else:\n",
    "        y = groupby \n",
    "        x = col\n",
    "    if fig == 'bar':\n",
    "        fig = px.histogram(for_bar, x = x, y = y, color = hue, barmode = 'group', \n",
    "                 orientation = orientation, width = w, height = h)\n",
    "    elif fig == 'scatter':\n",
    "        fig = px.scatter(for_bar, x = x, y = y, color = hue, width = w, height = h)\n",
    "    elif fig == 'line':\n",
    "        fig = px.line(for_bar, x = x, y = y, color = hue, width = w, height = h, markers=True)\n",
    "    fig.show()"
   ]
  },
  {
   "cell_type": "code",
   "execution_count": null,
   "id": "639f5aa9",
   "metadata": {},
   "outputs": [],
   "source": [
    "plot_bar(new_DF, 'Цена', 'median', 'Округ', 'год')"
   ]
  },
  {
   "cell_type": "code",
   "execution_count": null,
   "id": "43a3e8df",
   "metadata": {},
   "outputs": [],
   "source": [
    "plot_bar(new_DF, 'Цена', 'median', 'Количество комнат', 'год')"
   ]
  },
  {
   "cell_type": "code",
   "execution_count": null,
   "id": "022af6e4",
   "metadata": {},
   "outputs": [],
   "source": [
    "plot_bar(new_DF, 'Цена', 'count', 'Количество комнат')"
   ]
  },
  {
   "cell_type": "code",
   "execution_count": null,
   "id": "89a78d4d",
   "metadata": {},
   "outputs": [],
   "source": [
    "plot_bar(new_DF, 'Цена', 'median', 'Район', None, orientation = 'h', h = 1500)"
   ]
  },
  {
   "cell_type": "code",
   "execution_count": null,
   "id": "ee23c873",
   "metadata": {},
   "outputs": [],
   "source": [
    "plot_bar(new_DF, 'Цена', 'median', 'Ветка', None, orientation = 'h', h = 700)"
   ]
  },
  {
   "cell_type": "code",
   "execution_count": null,
   "id": "2fcba543",
   "metadata": {},
   "outputs": [],
   "source": [
    "plot_bar(new_DF, 'Цена', 'median', 'Ремонт')"
   ]
  },
  {
   "cell_type": "code",
   "execution_count": null,
   "id": "db3ee91d",
   "metadata": {},
   "outputs": [],
   "source": [
    "plot_bar(new_DF, 'Цена', 'median', 'месяц', 'Округ', fig = 'line', sort = False)"
   ]
  },
  {
   "cell_type": "code",
   "execution_count": null,
   "id": "fc76f0aa",
   "metadata": {},
   "outputs": [],
   "source": [
    "plot_bar(new_DF, 'Цена', 'median', 'месяц', 'Количество комнат', fig = 'line', sort = False)"
   ]
  },
  {
   "cell_type": "code",
   "execution_count": null,
   "id": "043c529e",
   "metadata": {},
   "outputs": [],
   "source": [
    "plot_bar(new_DF, \"Цена за м2\" , 'mean', 'месяц', 'Количество комнат', fig = 'line', sort = False)"
   ]
  },
  {
   "cell_type": "code",
   "execution_count": null,
   "id": "dd0ba653",
   "metadata": {},
   "outputs": [],
   "source": [
    "plot_bar(new_DF, \"Цена за м2\" ,'median', 'месяц', fig = 'line', sort = False)"
   ]
  },
  {
   "cell_type": "code",
   "execution_count": null,
   "id": "7e1a3124",
   "metadata": {},
   "outputs": [],
   "source": [
    "plot_bar(new_DF, \"Цена за м2\" ,'mean', 'месяц', fig = 'line', sort = False)"
   ]
  },
  {
   "cell_type": "code",
   "execution_count": null,
   "id": "d36e5e7d",
   "metadata": {},
   "outputs": [],
   "source": [
    "def clear_anomal(df, APERTURE_SIZE = 6):\n",
    "    \n",
    "    df = df.drop_duplicates(subset = ['Cсылка', 'Цена', 'Адрес']).drop_duplicates(subset = ['ID', 'Цена', 'Адрес'])\n",
    "    df = df[df['Количество комнат'].isin([*range(1, 7), 0.5])]\n",
    "    quantiles = df.groupby('Количество комнат', as_index = False).agg({'Цена': [lambda df: df.quantile(0.98), \n",
    "    lambda df: df.quantile(0.01)], 'Площадь': [lambda df: df.quantile(0.99), lambda df: df.quantile(0.01)]})\n",
    "    quantiles.columns = ['Количество комнат', 'price_q_r', 'price_q_l', 'S_q_r', 'S_q_l']\n",
    "    \n",
    "    df = df.merge(quantiles, on = 'Количество комнат')\n",
    "    df = df[(df['Цена'] > df['price_q_l'])&(df['Цена'] < df['price_q_r'])]\n",
    "    df = df[(df['Площадь'] > df['S_q_l'])&(df['Площадь'] < df['S_q_r'])]\n",
    "    df = df[~((df['Цена'] >= df[df['Количество комнат'] == 3]['Цена'].quantile(0.95))&(df['Количество комнат'] == 3))]\n",
    "    df = df[~((df['Площадь'] >= df[df['Количество комнат'] == 0.5]['Площадь'].quantile(0.98))&(df['Количество комнат'] == 0.5))]\n",
    "    df = df[~((df['Площадь'] >= df[df['Количество комнат'] == 2]['Площадь'].quantile(0.98))&(df['Количество комнат'] == 2))]\n",
    "    df = df[df['Цена'] < df['Цена'].quantile(0.97)]\n",
    "    df = df[df['Площадь'] < df['Площадь'].quantile(0.97)]\n",
    "    \n",
    "    df['hex_id'] = df.apply(lambda x: h3.geo_to_h3(x.lat, x.lng, APERTURE_SIZE), 1)\n",
    "    top30hex = set(df['hex_id'].value_counts().nlargest(30).index)\n",
    "    df['top30hex'] = df['hex_id'].map(lambda x: x if x in top30hex else -1)\n",
    "    return df\n",
    "    \n",
    "clean_DF = clear_anomal(new_DF) "
   ]
  },
  {
   "cell_type": "code",
   "execution_count": null,
   "id": "28e7053c",
   "metadata": {},
   "outputs": [],
   "source": [
    "clean_DF.to_csv('clean_flats_df.csv', index=False)"
   ]
  },
  {
   "cell_type": "code",
   "execution_count": null,
   "id": "e7f32296",
   "metadata": {},
   "outputs": [],
   "source": [
    "fig = px.histogram(clean_DF, x=\"Цена\", color='Количество комнат')\n",
    "fig.show()"
   ]
  },
  {
   "cell_type": "code",
   "execution_count": null,
   "id": "c7228c11",
   "metadata": {},
   "outputs": [],
   "source": [
    "fig = px.histogram(clean_DF, x='Площадь', color='Количество комнат')\n",
    "fig.show()"
   ]
  },
  {
   "cell_type": "code",
   "execution_count": null,
   "id": "2c055227",
   "metadata": {},
   "outputs": [],
   "source": [
    "fig = px.box(clean_DF, x=\"Цена\", color='Количество комнат', height = 800)\n",
    "fig.show()"
   ]
  },
  {
   "cell_type": "code",
   "execution_count": null,
   "id": "e0efdc11",
   "metadata": {},
   "outputs": [],
   "source": [
    "fig = px.box(clean_DF, x=\"Площадь\", color='Количество комнат', height = 800)\n",
    "fig.show()"
   ]
  },
  {
   "cell_type": "code",
   "execution_count": null,
   "id": "b9fad85b",
   "metadata": {},
   "outputs": [],
   "source": [
    "import folium\n",
    "\n",
    "def show_circles_on_map(data, latitude_column, longitude_column, color):\n",
    "    \"\"\"\n",
    "    The function draws map with circles on it.\n",
    "    The center of the map is the mean of coordinates passed in data.\n",
    "    \n",
    "    data: DataFrame that contains columns latitude_column and longitude_column\n",
    "    latitude_column: string, the name of column for latitude coordinates\n",
    "    longitude_column: string, the name of column for longitude coordinates\n",
    "    color: string, the color of circles to be drawn\n",
    "    \"\"\"\n",
    "\n",
    "    location = (data[latitude_column].mean(), data[longitude_column].mean())\n",
    "    m = folium.Map(location=location)\n",
    "\n",
    "    for _, row in data.iterrows():\n",
    "        folium.Circle(\n",
    "            radius=100,\n",
    "            location=(row[latitude_column], row[longitude_column]),\n",
    "            color=color,\n",
    "            fill_color=color,\n",
    "            fill=True\n",
    "        ).add_to(m)\n",
    "\n",
    "    return m"
   ]
  },
  {
   "cell_type": "code",
   "execution_count": null,
   "id": "bb664a6e",
   "metadata": {
    "scrolled": false
   },
   "outputs": [],
   "source": [
    "show_circles_on_map(clean_DF.sample(1000), 'lat', 'lng', 'blue')"
   ]
  },
  {
   "cell_type": "code",
   "execution_count": null,
   "id": "86346fdb",
   "metadata": {},
   "outputs": [],
   "source": [
    "clean_DF"
   ]
  },
  {
   "cell_type": "code",
   "execution_count": null,
   "id": "2c28e960",
   "metadata": {},
   "outputs": [],
   "source": [
    "import h3\n",
    "\n",
    "geo_DF = clean_DF[['hex_id', 'Цена', 'Площадь', 'lat', 'lng', \"Цена за м2\"]]\n",
    "\n",
    "# find hexs containing the points\n",
    "geo_DF = geo_DF.groupby('hex_id', as_index = False).agg({'Цена': ['median', 'mean', 'count'], \n",
    "                                    'Площадь': 'mean', \"Цена за м2\": ['median', 'mean']})\n",
    "geo_DF.columns = [' '.join(col).strip() for col in geo_DF.columns.values]\n",
    "geo_DF.head()"
   ]
  },
  {
   "cell_type": "code",
   "execution_count": null,
   "id": "48a37c8e",
   "metadata": {},
   "outputs": [],
   "source": [
    "from geojson import Feature, Point, FeatureCollection\n",
    "import json\n",
    "\n",
    "def hexagons_dataframe_to_geojson(df_hex, file_output = None, column_name = \"value\", tool_f = None):\n",
    "    \"\"\"\n",
    "    Produce the GeoJSON for a dataframe, constructing the geometry from the \"hex_id\" column\n",
    "    and with a property matching the one in column_name\n",
    "    \"\"\"    \n",
    "    list_features = []\n",
    "    \n",
    "    for i,row in df_hex.iterrows():\n",
    "        try:\n",
    "            geometry_for_row = { \"type\" : \"Polygon\", \"coordinates\": [h3.h3_to_geo_boundary(h=row[\"hex_id\"],geo_json=True)]}\n",
    "            if tool_f is not None:\n",
    "                properties = {column_name : row[column_name], tool_f[0]: tool_f[1](row[column_name])}\n",
    "            else:\n",
    "                properties = {column_name : row[column_name]}\n",
    "            feature = Feature(geometry = geometry_for_row , id=row[\"hex_id\"], properties = properties)\n",
    "            list_features.append(feature)\n",
    "        except:\n",
    "            print(\"An exception occurred for hex \" + row[\"hex_id\"]) \n",
    "\n",
    "    feat_collection = FeatureCollection(list_features)\n",
    "    geojson_result = json.dumps(feat_collection)\n",
    "    return geojson_result\n",
    "\n",
    "def get_color(custom_cm, val, vmin, vmax, color_f = lambda x: x**0.3):\n",
    "    if custom_cm.name == 'hsv':\n",
    "        return matplotlib.colors.to_hex(custom_cm(0.6 - 0.6*(color_f(val)-color_f(vmin))/(color_f(vmax)-color_f(vmin))))\n",
    "    else:\n",
    "        return matplotlib.colors.to_hex(custom_cm((val-vmin)/(vmax-vmin)))\n",
    "\n",
    "def choropleth_map(df_aggreg, column_name = \"value\", border_color = 'black', fill_opacity = 0.7, \n",
    "                   color_map_name = \"Blues\", initial_map = None, tool_f = None):\n",
    "    \"\"\"\n",
    "    Creates choropleth maps given the aggregated data. initial_map can be an existing map to draw on top of.\n",
    "    \"\"\"    \n",
    "    #colormap\n",
    "    min_value = df_aggreg[column_name].min()\n",
    "    max_value = df_aggreg[column_name].max()\n",
    "    mean_value = df_aggreg[column_name].mean()\n",
    "    print(f\"Colour column min value {min_value}, max value {max_value}, mean value {mean_value}\")\n",
    "    print(f\"Hexagon cell count: {df_aggreg['hex_id'].nunique()}\")\n",
    "    \n",
    "    # the name of the layer just needs to be unique, put something silly there for now:\n",
    "    name_layer = \"Choropleth \" + str(df_aggreg)\n",
    "    \n",
    "    if initial_map is None:\n",
    "        initial_map = folium.Map(location= (55.7522200, 37.6155600), zoom_start=10)#, tiles=\"cartodbpositron\")\n",
    "\n",
    "    #create geojson data from dataframe\n",
    "    geojson_data = hexagons_dataframe_to_geojson(df_hex = df_aggreg, column_name = column_name, tool_f = tool_f)\n",
    "\n",
    "    # color_map_name 'Blues' for now, many more at https://matplotlib.org/stable/tutorials/colors/colormaps.html to choose from!\n",
    "    custom_cm = matplotlib.cm.get_cmap(color_map_name)\n",
    "\n",
    "    folium.features.GeoJson(\n",
    "        geojson_data,\n",
    "        style_function=lambda feature: {\n",
    "            'fillColor': get_color(custom_cm, feature['properties'][column_name], vmin=min_value, vmax=max_value),\n",
    "            'color': border_color,\n",
    "            'weight': 1,\n",
    "            'fillOpacity': fill_opacity\n",
    "            #'dashArray': ' '.join([str(feature['properties'][column_name]/10**6), 'млн. руб.'])\n",
    "        }, \n",
    "        highlight_function = lambda feature: {\n",
    "              'opacity' : 0.90,\n",
    "                  # specifying properties from GeoJSON\n",
    "              #'weight' : x['properties']['stroke-width'],\n",
    "              #'dashArray' : ' '.join([str(feature['properties'][column_name]/10**6), 'млн. руб.'])\n",
    "        },\n",
    "        tooltip=folium.features.GeoJsonTooltip(\n",
    "        # using fields from the geojson file\n",
    "        fields=[column_name if tool_f is None else tool_f[0]],\n",
    "        aliases=[f'{column_name if tool_f is None else tool_f[0]}: '],\n",
    "        style=(\"background-color: white; color: #333333; font-family: arial; font-size: 12px; padding: 10px;\") # setting style for popup box\n",
    "        ),\n",
    "        name = name_layer, \n",
    "    ).add_to(initial_map)\n",
    "\n",
    "    return initial_map"
   ]
  },
  {
   "cell_type": "code",
   "execution_count": null,
   "id": "9f392c53",
   "metadata": {},
   "outputs": [],
   "source": [
    "import matplotlib\n",
    "choropleth_map(geo_DF, 'Цена median', color_map_name = 'hsv', fill_opacity = 0.5,\n",
    "               tool_f = ('Медиана цены', lambda x: ' '.join([str(x/10**6), 'млн. руб.'])))"
   ]
  },
  {
   "cell_type": "code",
   "execution_count": null,
   "id": "8614cace",
   "metadata": {},
   "outputs": [],
   "source": [
    "choropleth_map(geo_DF, 'Цена mean', color_map_name = 'hsv', fill_opacity = 0.5,\n",
    "               tool_f = ('Средняя цена', lambda x: ' '.join([str(round(x/10**6, 2)), 'млн. руб.'])))"
   ]
  },
  {
   "cell_type": "code",
   "execution_count": null,
   "id": "b331f67a",
   "metadata": {},
   "outputs": [],
   "source": [
    "choropleth_map(geo_DF, 'Цена за м2 mean', color_map_name = 'hsv', fill_opacity = 0.5,\n",
    "               tool_f = ('Средняя цена м2', lambda x: ' '.join([str(round(x/10**3, 2)), 'тыс. руб.'])))"
   ]
  },
  {
   "cell_type": "code",
   "execution_count": null,
   "id": "4c3cd04a",
   "metadata": {},
   "outputs": [],
   "source": [
    "choropleth_map(geo_DF, 'Цена count', color_map_name = 'hsv', fill_opacity = 0.5,\n",
    "               tool_f = ('Количество квартир', lambda x: ' '.join([str(round(x/10**3, 2)), 'тыс.'])))"
   ]
  },
  {
   "cell_type": "code",
   "execution_count": null,
   "id": "7a1cbc4a",
   "metadata": {},
   "outputs": [],
   "source": [
    "def get_stat_by_room(df, room):\n",
    "    df = df[['hex_id', 'Количество комнат', 'Цена', 'Площадь', \n",
    "             'lat', 'lng', \"Цена за м2\"]][df['Количество комнат'] == room]\n",
    "    df = df.groupby(['Количество комнат', 'hex_id'], as_index = False).agg({'Цена': ['median', 'mean', 'count'], \n",
    "                               'Площадь': 'mean', \"Цена за м2\": ['median', 'mean']})\n",
    "    df.columns = [' '.join(col).strip() for col in df.columns.values]\n",
    "    return df\n",
    "    \n",
    "dict_DF = {}\n",
    "\n",
    "for room in [*range(1,7), 0.5]:\n",
    "    dict_DF[room] = get_stat_by_room(clean_DF, room) \n"
   ]
  },
  {
   "cell_type": "code",
   "execution_count": null,
   "id": "7867ea76",
   "metadata": {},
   "outputs": [],
   "source": [
    "choropleth_map(dict_DF[3], 'Цена mean', color_map_name = 'hsv', fill_opacity = 0.5,\n",
    "               tool_f = ('Средняя цена', lambda x: ' '.join([str(round(x/10**6, 2)), 'млн. руб.'])))"
   ]
  },
  {
   "cell_type": "code",
   "execution_count": null,
   "id": "ae3ba84a",
   "metadata": {},
   "outputs": [],
   "source": []
  }
 ],
 "metadata": {
  "kernelspec": {
   "display_name": "Python 3 (ipykernel)",
   "language": "python",
   "name": "python3"
  },
  "language_info": {
   "codemirror_mode": {
    "name": "ipython",
    "version": 3
   },
   "file_extension": ".py",
   "mimetype": "text/x-python",
   "name": "python",
   "nbconvert_exporter": "python",
   "pygments_lexer": "ipython3",
   "version": "3.8.11"
  }
 },
 "nbformat": 4,
 "nbformat_minor": 5
}
