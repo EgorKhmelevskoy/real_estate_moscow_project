{
 "cells": [
  {
   "cell_type": "code",
   "execution_count": 4,
   "id": "a83ea23f",
   "metadata": {},
   "outputs": [],
   "source": [
    "import requests\n",
    "import numpy as np\n",
    "import pandas as pd\n",
    "from datetime import datetime\n",
    "import time\n",
    "from tqdm import tqdm\n",
    "import pickle"
   ]
  },
  {
   "cell_type": "code",
   "execution_count": 5,
   "id": "405c6169",
   "metadata": {},
   "outputs": [],
   "source": [
    "login = 'e.khmelevskoy@gmail.com'\n",
    "token = 'a933d970677550750996dc9a4cf5a81b'\n",
    "city = ['city=Москва', 'city1=Москва']\n",
    "category = ['category_id=1', 'param[1957]=Вторичка']\n",
    "type_adv = ['nedvigimost_type=1']\n",
    "main = [f'https://ads-api.ru/main/api?user={login}&token={token}']\n",
    "\n",
    "\n",
    "LIST_KEYS = [('Cсылка', 'url'), \n",
    "             ('Цена', 'price'), \n",
    "             ('Время загрузки', 'time'), \n",
    "             ('Ближайшее метро', 'metro'), \n",
    "             ('Адрес', 'address'), \n",
    "             ('Этаж', 'param_2113'), \n",
    "             ('Площадь кухни', 'param_12721'), \n",
    "             ('Расстояние до метро', 'km_do_metro'), \n",
    "             ('Количество комнат', 'param_1945'),\n",
    "             ('Описание', 'description'), \n",
    "             ('Жилая площадь', 'param_12722'), \n",
    "             ('Вид объекта', 'param_1957'), \n",
    "             ('Тип дома', 'param_2009'), \n",
    "             ('Площадь', 'param_2313'), \n",
    "             ('Адрес', 'param_2314'),\n",
    "             ('Город', 'city1'),\n",
    "             ('Регион', 'region'),\n",
    "             ('ID', 'avitoid'),\n",
    "             ('ID', 'source_id')\n",
    "             ]\n",
    "\n",
    "def get_flat(json):\n",
    "    flat = {}\n",
    "    for name, key in LIST_KEYS:\n",
    "        if key in json:\n",
    "            if name in flat and flat[name] != json[key]:\n",
    "                flat[name] = [flat[name], json[key]]\n",
    "            elif name not in flat:\n",
    "                flat[name] = json[key]\n",
    "    \n",
    "    for Key in ('params', 'params2', 'coords'):\n",
    "        \n",
    "        if Key in json:\n",
    "            for key, item in json[Key].items():\n",
    "                if key not in flat:\n",
    "                    flat[key] = item\n",
    "    return flat\n",
    "\n",
    "def get_response(date_1, date_2):\n",
    "    dates = [f'date1={date_1}', f'date2={date_2}']\n",
    "    url = '&'.join([*main, *city, *dates, *category, *type_adv])\n",
    "    try:\n",
    "        response = requests.get(url)\n",
    "        dict_flats = response.json()\n",
    "        if dict_flats['code'] == 200: \n",
    "            if len(dict_flats['data']) > 0:\n",
    "                return [get_flat(json) for json in dict_flats['data']]\n",
    "            else:\n",
    "                print('Данных нет :(')\n",
    "        else:\n",
    "            print(f'Ошибка {code}')\n",
    "    except:\n",
    "        pass"
   ]
  },
  {
   "cell_type": "code",
   "execution_count": 6,
   "id": "b2ad132b",
   "metadata": {},
   "outputs": [],
   "source": [
    "START_DATE = '2021-03-01'\n",
    "END_DATE = datetime.today()"
   ]
  },
  {
   "cell_type": "code",
   "execution_count": 29,
   "id": "5894d72f",
   "metadata": {},
   "outputs": [
    {
     "name": "stderr",
     "output_type": "stream",
     "text": [
      "100%|██████████████████████████████████████████████████████████████████████████████| 376/376 [1:01:37<00:00,  9.83s/it]\n"
     ]
    }
   ],
   "source": [
    "dates = pd.date_range(START_DATE, END_DATE, freq = '12h').tolist()\n",
    "\n",
    "for i in tqdm(range(len(dates)-1)):\n",
    "    d1, d2 = dates[i], dates[i+1]\n",
    "    response = get_response(d1, d2)\n",
    "    \n",
    "    if response is not None:\n",
    "        for flat in response:\n",
    "            with open('flats_data.pickle', 'ab') as f:\n",
    "                pickle.dump(flat, f)\n",
    "    \n",
    "    time.sleep(5.1)"
   ]
  },
  {
   "cell_type": "code",
   "execution_count": null,
   "id": "195e852a",
   "metadata": {},
   "outputs": [],
   "source": []
  }
 ],
 "metadata": {
  "kernelspec": {
   "display_name": "Python 3 (ipykernel)",
   "language": "python",
   "name": "python3"
  },
  "language_info": {
   "codemirror_mode": {
    "name": "ipython",
    "version": 3
   },
   "file_extension": ".py",
   "mimetype": "text/x-python",
   "name": "python",
   "nbconvert_exporter": "python",
   "pygments_lexer": "ipython3",
   "version": "3.8.11"
  }
 },
 "nbformat": 4,
 "nbformat_minor": 5
}
