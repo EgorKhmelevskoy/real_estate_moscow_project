{
 "cells": [
  {
   "cell_type": "code",
   "execution_count": 1,
   "id": "10f0998a",
   "metadata": {},
   "outputs": [],
   "source": [
    "import numpy as np\n",
    "import pandas as pd\n",
    "import re\n",
    "import warnings\n",
    "\n",
    "warnings.filterwarnings('ignore')"
   ]
  },
  {
   "cell_type": "code",
   "execution_count": 2,
   "id": "284edca3",
   "metadata": {},
   "outputs": [],
   "source": [
    "DF = pd.read_csv('preprocessing_flats.csv', index_col = 'Unnamed: 0')"
   ]
  },
  {
   "cell_type": "code",
   "execution_count": 4,
   "id": "e5f79d7a",
   "metadata": {},
   "outputs": [
    {
     "data": {
      "text/plain": [
       "Cсылка                     1113365\n",
       "Цена                       1113378\n",
       "Время загрузки             1113378\n",
       "Ближайшее метро            1071948\n",
       "Адрес                      1111787\n",
       "Этаж                       1113148\n",
       "Площадь кухни               939012\n",
       "Расстояние до метро        1113378\n",
       "Количество комнат          1108678\n",
       "Жилая площадь               893688\n",
       "Вид объекта                1113378\n",
       "Площадь                    1113149\n",
       "Город                      1113378\n",
       "Регион                     1113378\n",
       "ID                         1113378\n",
       "Тип объявления             1113378\n",
       "Этажей в доме              1113129\n",
       "lat                        1113374\n",
       "lng                        1113374\n",
       "Тип дома                    296979\n",
       "Год постройки               217239\n",
       "Пассажирский лифт            85841\n",
       "Грузовой лифт                60788\n",
       "Запланирован снос          1113378\n",
       "Санузел                     320445\n",
       "Ремонт                      610802\n",
       "Статус                      148742\n",
       "Высота потолков             195845\n",
       "Вид из окон                 198819\n",
       "Способ продажи              148222\n",
       "Балкон или лоджия           415980\n",
       "Вид сделки                   78980\n",
       "Тёплый пол                 1113378\n",
       "Спортивная площадка          80053\n",
       "Детская площадка             80053\n",
       "Закрытая территория          80053\n",
       "Спальные места               34060\n",
       "Кухня                        34060\n",
       "Хранение одежды              34060\n",
       "Посудомоечная машина         28510\n",
       "Кондиционер                  28510\n",
       "Утюг                         28510\n",
       "Водонагреватель              28510\n",
       "Фен                          28510\n",
       "Холодильник                  28510\n",
       "Телевизор                    28510\n",
       "Стиральная машина            28510\n",
       "Газ                          68222\n",
       "Консьерж                    170890\n",
       "Мусоропровод                 68222\n",
       "Подземная                    83284\n",
       "За шлагбаумом во дворе       83284\n",
       "Открытая во дворе            83284\n",
       "Наземная многоуровневая      83284\n",
       "Планировка                  126875\n",
       "dtype: int64"
      ]
     },
     "execution_count": 4,
     "metadata": {},
     "output_type": "execute_result"
    }
   ],
   "source": [
    "DF.count()"
   ]
  },
  {
   "cell_type": "code",
   "execution_count": 5,
   "id": "1aec9fbb",
   "metadata": {},
   "outputs": [],
   "source": [
    "def prepr_district(string):\n",
    "    string = string.lower()\n",
    "    for item, value in [('район', ''), ('поселение', 'сп'), ('ё', 'е'), \n",
    "                        ('ново-переделкино', 'новопеределкино'), ('сп московский', 'гп московский')]:\n",
    "        string = string.replace(item, value)\n",
    "    return string.strip()\n",
    "\n",
    "\n",
    "geo_df = pd.read_excel('Станции Московского метрополитена.xlsx')[['Station', 'Line', 'AdmArea', 'District']]\n",
    "geo_df = geo_df.rename(columns = dict(zip(geo_df.columns, ['Метро', 'Ветка', 'Округ', 'Район'])))\n",
    "\n",
    "geo_df['Метро'] = geo_df['Метро'].map(lambda x: x.lower().replace('ё', 'е'))\n",
    "geo_df['Район'] = geo_df['Район'].map(prepr_district)\n",
    "\n",
    "new_DF = DF.merge(geo_df.drop_duplicates(subset = 'Метро'), how='left', \n",
    "              left_on='Ближайшее метро', right_on='Метро').drop(columns = ['Метро'])\n",
    "\n",
    "eco_df = pd.read_csv('eco_data.csv', index_col = 'Unnamed: 0')\n",
    "eco_df['district'] = eco_df['district'].map(lambda x: x.lower())\n",
    "\n",
    "new_DF = new_DF.merge(eco_df, left_on = 'Район', right_on = 'district', how = 'left').drop(columns = ['district'])"
   ]
  },
  {
   "cell_type": "code",
   "execution_count": 6,
   "id": "a5cab081",
   "metadata": {},
   "outputs": [
    {
     "data": {
      "text/plain": [
       "Cсылка                                      1113365\n",
       "Цена                                        1113378\n",
       "Время загрузки                              1113378\n",
       "Ближайшее метро                             1071948\n",
       "Адрес                                       1111787\n",
       "                                             ...   \n",
       "Район                                       1012135\n",
       "Плотность населения                         1012135\n",
       "Загруженность шоссе                         1012135\n",
       "Площадь зеленых насаждений                  1012135\n",
       "Влияние объектов негативного воздействия    1012135\n",
       "Length: 62, dtype: int64"
      ]
     },
     "execution_count": 6,
     "metadata": {},
     "output_type": "execute_result"
    }
   ],
   "source": [
    "new_DF.count()"
   ]
  },
  {
   "cell_type": "code",
   "execution_count": 52,
   "id": "3e1b1e4b",
   "metadata": {},
   "outputs": [],
   "source": [
    "from sklearn.ensemble import RandomForestClassifier\n",
    "from sklearn.ensemble import RandomForestRegressor\n",
    "from sklearn.preprocessing import OneHotEncoder\n",
    "from sklearn.preprocessing import LabelEncoder\n",
    "from sklearn.preprocessing import StandardScaler\n",
    "from sklearn.compose import make_column_selector\n",
    "from sklearn.compose import make_column_transformer\n",
    "\n",
    "def get_features(X_train, X_fill, target):\n",
    "\n",
    "    cols_to_train = ['Цена', 'Этаж', 'Площадь кухни', 'Расстояние до метро', 'Количество комнат',\n",
    "    'Жилая площадь', 'Тип дома', 'Площадь', 'Этажей в доме', 'lat', 'lng','Пассажирский лифт', 'Грузовой лифт', \n",
    "    'Год постройки', 'Запланирован снос', 'Санузел', 'Ремонт', 'Статус', 'Планировка', 'Ветка', 'Округ',\n",
    "    'Плотность населения', 'Загруженность шоссе', 'Площадь зеленых насаждений']\n",
    "    if target in cols_to_train:\n",
    "        cols_to_train.remove(target)\n",
    "    \n",
    "    X_train, X_fill = X_train[cols_to_train], X_fill[cols_to_train]\n",
    "    \n",
    "    if 'Количество комнат' in X_train.columns:\n",
    "        X_train['Количество комнат'], X_fill['Количество комнат'] = [df['Количество комнат'].map(lambda x: \n",
    "        re.sub('[c, с]тудия', '0.5', x.replace('> 9', '10')) if type(x) == str else x).astype(float) for df in [X_train, X_fill]]\n",
    "        X_train['Количество комнат'], X_fill['Количество комнат'] = [df['Количество комнат'].where(df['Количество комнат'] < 10, 10)\n",
    "                                                                                        for df in [X_train, X_fill]]\n",
    "    ordinary_cols = []\n",
    "    for col in X_train.columns:\n",
    "        if type(X_train[col].loc[X_train[col].first_valid_index()]) == str:\n",
    "            \n",
    "            train_mode = X_train[col].mode()\n",
    "            fill_mode = X_fill[col].mode()\n",
    "            \n",
    "            if len(train_mode) == 0:\n",
    "                train_mode = fill_mode\n",
    "            elif len(X_fill[col].mode()) == 0:\n",
    "                fill_mode = train_mode\n",
    "                \n",
    "            X_train.loc[:, col] = X_train[col].fillna(train_mode[0])\n",
    "            X_fill.loc[:, col] = X_fill[col].fillna(fill_mode[0])\n",
    "            ordinary_cols.append(col)\n",
    "            \n",
    "            \n",
    "        elif len(np.concatenate(tuple([X[col].dropna().unique() for X in [X_train, X_fill]]))) == 2:\n",
    "            X_train.loc[:, col] = X_train[col].fillna(X_train[col].mode())\n",
    "            X_fill.loc[:, col] = X_fill[col].fillna(X_fill[col].mode())\n",
    "            \n",
    "        else:\n",
    "            X_train[col] = X_train[col].fillna(X_train[col].mean())\n",
    "            X_fill[col] = X_fill[col].fillna(X_fill[col].mean())\n",
    "            \n",
    "    CT = make_column_transformer(\n",
    "    (OneHotEncoder(drop = 'if_binary', handle_unknown = 'ignore'), ordinary_cols),\n",
    "        remainder='passthrough') \n",
    "    CT.fit(X_train)\n",
    "    CT.transform(X_fill)\n",
    "    X_train = CT.transform(X_train)\n",
    "    X_fill = CT.transform(X_fill)\n",
    "    return X_train, X_fill\n",
    "    \n",
    "    \n",
    "def fill_na_values(df, target):\n",
    "    X_train = df[~df[target].isna()]\n",
    "    X_fill = df[df[target].isna()]\n",
    "    \n",
    "    X_train, y_train = X_train[X_train.columns[X_train.columns != target]], X_train[target]\n",
    "    X_fill, y_fill_index = X_fill[X_fill.columns[X_fill.columns != target]], X_fill.index\n",
    "    \n",
    "    X_train, X_fill = get_features(X_train, X_fill, target) \n",
    "    \n",
    "    regr = True\n",
    "    if type(y_train.loc[y_train.first_valid_index()]) == str or len(y_train.unique()) <= 2:\n",
    "        model = RandomForestClassifier(n_estimators=30)\n",
    "        labelencoder = LabelEncoder()\n",
    "        labelencoder.fit(y_train)\n",
    "        y_train = labelencoder.transform(y_train)\n",
    "        regr = False\n",
    "    else:\n",
    "        model = RandomForestRegressor(n_estimators=30)\n",
    "    print(f'Заполняемый признак: {target}')\n",
    "    display(model)\n",
    "    model.fit(X_train, y_train)\n",
    "    print(f'Качество на обучении: {model.score(X_train, y_train)}', \n",
    "          end = '\\n========================================\\n\\n')\n",
    "    \n",
    "    if regr:\n",
    "        y_fill = model.predict(X_fill)\n",
    "    else:\n",
    "        y_fill = labelencoder.inverse_transform(model.predict(X_fill))\n",
    "        \n",
    "    y_fill = pd.Series(index = y_fill_index, data = y_fill)\n",
    "    \n",
    "    return df.fillna({target: y_fill})"
   ]
  },
  {
   "cell_type": "code",
   "execution_count": 53,
   "id": "ce44edf1",
   "metadata": {},
   "outputs": [
    {
     "data": {
      "text/plain": [
       "Index(['Cсылка', 'Цена', 'Время загрузки', 'Ближайшее метро', 'Адрес', 'Этаж',\n",
       "       'Площадь кухни', 'Расстояние до метро', 'Количество комнат',\n",
       "       'Жилая площадь', 'Вид объекта', 'Площадь', 'Город', 'Регион', 'ID',\n",
       "       'Тип объявления', 'Этажей в доме', 'lat', 'lng', 'Тип дома',\n",
       "       'Год постройки', 'Пассажирский лифт', 'Грузовой лифт',\n",
       "       'Запланирован снос', 'Санузел', 'Ремонт', 'Статус', 'Высота потолков',\n",
       "       'Вид из окон', 'Способ продажи', 'Балкон или лоджия', 'Вид сделки',\n",
       "       'Тёплый пол', 'Спортивная площадка', 'Детская площадка',\n",
       "       'Закрытая территория', 'Спальные места', 'Кухня', 'Хранение одежды',\n",
       "       'Посудомоечная машина', 'Кондиционер', 'Утюг', 'Водонагреватель', 'Фен',\n",
       "       'Холодильник', 'Телевизор', 'Стиральная машина', 'Газ', 'Консьерж',\n",
       "       'Мусоропровод', 'Подземная', 'За шлагбаумом во дворе',\n",
       "       'Открытая во дворе', 'Наземная многоуровневая', 'Планировка', 'Ветка',\n",
       "       'Округ', 'Район', 'Плотность населения', 'Загруженность шоссе',\n",
       "       'Площадь зеленых насаждений',\n",
       "       'Влияние объектов негативного воздействия'],\n",
       "      dtype='object')"
      ]
     },
     "execution_count": 53,
     "metadata": {},
     "output_type": "execute_result"
    }
   ],
   "source": [
    "new_DF.columns"
   ]
  },
  {
   "cell_type": "code",
   "execution_count": 55,
   "id": "1416518d",
   "metadata": {},
   "outputs": [
    {
     "name": "stdout",
     "output_type": "stream",
     "text": [
      "Заполняемый признак: Площадь кухни\n"
     ]
    },
    {
     "data": {
      "text/plain": [
       "RandomForestRegressor(n_estimators=30)"
      ]
     },
     "metadata": {},
     "output_type": "display_data"
    },
    {
     "name": "stdout",
     "output_type": "stream",
     "text": [
      "Качество на обучении: 0.9659005543744535\n",
      "========================================\n",
      "\n",
      "Заполняемый признак: Жилая площадь\n"
     ]
    },
    {
     "data": {
      "text/plain": [
       "RandomForestRegressor(n_estimators=30)"
      ]
     },
     "metadata": {},
     "output_type": "display_data"
    },
    {
     "name": "stdout",
     "output_type": "stream",
     "text": [
      "Качество на обучении: 0.9733950599972936\n",
      "========================================\n",
      "\n",
      "Заполняемый признак: Тип дома\n"
     ]
    },
    {
     "data": {
      "text/plain": [
       "RandomForestClassifier(n_estimators=30)"
      ]
     },
     "metadata": {},
     "output_type": "display_data"
    },
    {
     "name": "stdout",
     "output_type": "stream",
     "text": [
      "Качество на обучении: 0.9988604947288322\n",
      "========================================\n",
      "\n",
      "Заполняемый признак: Вид из окон\n"
     ]
    },
    {
     "data": {
      "text/plain": [
       "RandomForestClassifier(n_estimators=30)"
      ]
     },
     "metadata": {},
     "output_type": "display_data"
    },
    {
     "name": "stdout",
     "output_type": "stream",
     "text": [
      "Качество на обучении: 0.9978493799866476\n",
      "========================================\n",
      "\n",
      "Заполняемый признак: Высота потолков\n"
     ]
    },
    {
     "data": {
      "text/plain": [
       "RandomForestRegressor(n_estimators=30)"
      ]
     },
     "metadata": {},
     "output_type": "display_data"
    },
    {
     "name": "stdout",
     "output_type": "stream",
     "text": [
      "Качество на обучении: 0.9590591017017959\n",
      "========================================\n",
      "\n",
      "Заполняемый признак: Статус\n"
     ]
    },
    {
     "data": {
      "text/plain": [
       "RandomForestClassifier(n_estimators=30)"
      ]
     },
     "metadata": {},
     "output_type": "display_data"
    },
    {
     "name": "stdout",
     "output_type": "stream",
     "text": [
      "Качество на обучении: 0.9996214259164934\n",
      "========================================\n",
      "\n",
      "Заполняемый признак: Ремонт\n"
     ]
    },
    {
     "data": {
      "text/plain": [
       "RandomForestClassifier(n_estimators=30)"
      ]
     },
     "metadata": {},
     "output_type": "display_data"
    },
    {
     "name": "stdout",
     "output_type": "stream",
     "text": [
      "Качество на обучении: 0.99638133865587\n",
      "========================================\n",
      "\n",
      "Заполняемый признак: Год постройки\n"
     ]
    },
    {
     "data": {
      "text/plain": [
       "RandomForestRegressor(n_estimators=30)"
      ]
     },
     "metadata": {},
     "output_type": "display_data"
    },
    {
     "name": "stdout",
     "output_type": "stream",
     "text": [
      "Качество на обучении: 0.9837628511225146\n",
      "========================================\n",
      "\n",
      "Заполняемый признак: Санузел\n"
     ]
    },
    {
     "data": {
      "text/plain": [
       "RandomForestClassifier(n_estimators=30)"
      ]
     },
     "metadata": {},
     "output_type": "display_data"
    },
    {
     "name": "stdout",
     "output_type": "stream",
     "text": [
      "Качество на обучении: 0.9993664903906416\n",
      "========================================\n",
      "\n",
      "Заполняемый признак: Консьерж\n"
     ]
    },
    {
     "data": {
      "text/plain": [
       "RandomForestClassifier(n_estimators=30)"
      ]
     },
     "metadata": {},
     "output_type": "display_data"
    },
    {
     "name": "stdout",
     "output_type": "stream",
     "text": [
      "Качество на обучении: 0.9989609064380246\n",
      "========================================\n",
      "\n",
      "Заполняемый признак: Балкон или лоджия\n"
     ]
    },
    {
     "data": {
      "text/plain": [
       "RandomForestClassifier(n_estimators=30)"
      ]
     },
     "metadata": {},
     "output_type": "display_data"
    },
    {
     "name": "stdout",
     "output_type": "stream",
     "text": [
      "Качество на обучении: 0.9972061274704341\n",
      "========================================\n",
      "\n",
      "Заполняемый признак: Пассажирский лифт\n"
     ]
    },
    {
     "data": {
      "text/plain": [
       "RandomForestClassifier(n_estimators=30)"
      ]
     },
     "metadata": {},
     "output_type": "display_data"
    },
    {
     "name": "stdout",
     "output_type": "stream",
     "text": [
      "Качество на обучении: 0.9983325335892514\n",
      "========================================\n",
      "\n",
      "Заполняемый признак: Количество комнат\n"
     ]
    },
    {
     "data": {
      "text/plain": [
       "RandomForestClassifier(n_estimators=30)"
      ]
     },
     "metadata": {},
     "output_type": "display_data"
    },
    {
     "name": "stdout",
     "output_type": "stream",
     "text": [
      "Качество на обучении: 0.9992986765123094\n",
      "========================================\n",
      "\n"
     ]
    }
   ],
   "source": [
    "filled_DF = new_DF.dropna(subset = 'Район')\n",
    "for col in ['Площадь кухни', 'Жилая площадь', 'Тип дома', 'Вид из окон', 'Высота потолков', 'Статус',\n",
    "            'Ремонт', 'Год постройки', 'Санузел', 'Консьерж', 'Балкон или лоджия', 'Пассажирский лифт', 'Количество комнат']:\n",
    "    filled_DF = fill_na_values(filled_DF, col)"
   ]
  },
  {
   "cell_type": "code",
   "execution_count": 44,
   "id": "348fabc2",
   "metadata": {},
   "outputs": [
    {
     "data": {
      "text/plain": [
       "Cсылка                  1012122\n",
       "Цена                    1012135\n",
       "Время загрузки          1012135\n",
       "Ближайшее метро         1012135\n",
       "Адрес                   1010724\n",
       "Этаж                    1012135\n",
       "Площадь кухни           1012135\n",
       "Расстояние до метро     1012135\n",
       "Количество комнат       1012135\n",
       "Жилая площадь           1012135\n",
       "Вид объекта             1012135\n",
       "Площадь                 1012135\n",
       "Город                   1012135\n",
       "Регион                  1012135\n",
       "ID                      1012135\n",
       "Тип объявления          1012135\n",
       "Этажей в доме           1012129\n",
       "lat                     1012133\n",
       "lng                     1012133\n",
       "Тип дома                1012135\n",
       "Год постройки           1012135\n",
       "Пассажирский лифт       1012135\n",
       "Грузовой лифт             58724\n",
       "Запланирован снос       1012135\n",
       "Санузел                 1012135\n",
       "Ремонт                  1012135\n",
       "Статус                   145282\n",
       "Высота потолков         1012135\n",
       "Вид из окон             1012135\n",
       "Способ продажи           144762\n",
       "Балкон или лоджия       1012135\n",
       "Вид сделки                76966\n",
       "Тёплый пол              1012135\n",
       "Спортивная площадка       77953\n",
       "Детская площадка          77953\n",
       "Закрытая территория       77953\n",
       "Спальные места            33085\n",
       "Кухня                     33085\n",
       "Хранение одежды           33085\n",
       "Посудомоечная машина      27861\n",
       "dtype: int64"
      ]
     },
     "execution_count": 44,
     "metadata": {},
     "output_type": "execute_result"
    }
   ],
   "source": [
    "filled_DF.count()[:40]"
   ]
  },
  {
   "cell_type": "code",
   "execution_count": 56,
   "id": "3759064c",
   "metadata": {},
   "outputs": [],
   "source": [
    "filled_DF.to_csv('final_flats_data.csv')"
   ]
  },
  {
   "cell_type": "code",
   "execution_count": null,
   "id": "ad01380c",
   "metadata": {},
   "outputs": [],
   "source": []
  }
 ],
 "metadata": {
  "kernelspec": {
   "display_name": "Python 3 (ipykernel)",
   "language": "python",
   "name": "python3"
  },
  "language_info": {
   "codemirror_mode": {
    "name": "ipython",
    "version": 3
   },
   "file_extension": ".py",
   "mimetype": "text/x-python",
   "name": "python",
   "nbconvert_exporter": "python",
   "pygments_lexer": "ipython3",
   "version": "3.9.13"
  }
 },
 "nbformat": 4,
 "nbformat_minor": 5
}
