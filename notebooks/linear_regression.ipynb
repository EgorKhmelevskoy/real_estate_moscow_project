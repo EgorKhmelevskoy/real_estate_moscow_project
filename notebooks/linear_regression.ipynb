{
 "cells": [
  {
   "cell_type": "code",
   "execution_count": 77,
   "id": "30198951",
   "metadata": {},
   "outputs": [],
   "source": [
    "import numpy as np\n",
    "import pandas as pd\n",
    "import re\n",
    "import warnings\n",
    "warnings.filterwarnings('ignore')\n",
    "\n",
    "from sklearn.model_selection import train_test_split\n",
    "from sklearn.ensemble import RandomForestClassifier\n",
    "from sklearn.ensemble import RandomForestRegressor\n",
    "from sklearn.linear_model import LinearRegression\n",
    "\n",
    "from sklearn.preprocessing import OneHotEncoder\n",
    "from sklearn.preprocessing import LabelEncoder\n",
    "from sklearn.preprocessing import StandardScaler\n",
    "\n",
    "from sklearn.compose import make_column_selector\n",
    "from sklearn.compose import make_column_transformer\n",
    "\n",
    "from sklearn.metrics import r2_score"
   ]
  },
  {
   "cell_type": "code",
   "execution_count": 2,
   "id": "55b5290e",
   "metadata": {},
   "outputs": [],
   "source": [
    "DF = pd.read_csv('clean_flats_df.csv')"
   ]
  },
  {
   "cell_type": "code",
   "execution_count": 8,
   "id": "e9db0e29",
   "metadata": {},
   "outputs": [
    {
     "data": {
      "text/plain": [
       "Cсылка                  781628\n",
       "Цена                    781639\n",
       "Время загрузки          781639\n",
       "Ближайшее метро         781639\n",
       "Адрес                   780459\n",
       "Этаж                    781639\n",
       "Площадь кухни           781639\n",
       "Расстояние до метро     781639\n",
       "Количество комнат       781639\n",
       "Жилая площадь           781639\n",
       "Вид объекта             781639\n",
       "Площадь                 781639\n",
       "Город                   781639\n",
       "Регион                  781639\n",
       "ID                      781639\n",
       "Тип объявления          781639\n",
       "Этажей в доме           781633\n",
       "lat                     781637\n",
       "lng                     781637\n",
       "Тип дома                781639\n",
       "Год постройки           781639\n",
       "Пассажирский лифт       781639\n",
       "Грузовой лифт            41650\n",
       "Запланирован снос       781639\n",
       "Санузел                 781639\n",
       "Ремонт                  781639\n",
       "Статус                  781639\n",
       "Высота потолков         781639\n",
       "Вид из окон             781639\n",
       "Способ продажи           99716\n",
       "Балкон или лоджия       781639\n",
       "Вид сделки               58035\n",
       "Тёплый пол              781639\n",
       "Спортивная площадка      57699\n",
       "Детская площадка         57699\n",
       "Закрытая территория      57699\n",
       "Спальные места           25051\n",
       "Кухня                    25051\n",
       "Хранение одежды          25051\n",
       "Посудомоечная машина     20879\n",
       "dtype: int64"
      ]
     },
     "execution_count": 8,
     "metadata": {},
     "output_type": "execute_result"
    }
   ],
   "source": [
    "DF.count()[:40]"
   ]
  },
  {
   "cell_type": "code",
   "execution_count": 71,
   "id": "2fd361d6",
   "metadata": {},
   "outputs": [],
   "source": [
    "def prepare_for_lr(df):\n",
    "    X = df[['Этаж', 'Площадь кухни', 'Расстояние до метро', \n",
    "       'Количество комнат', 'Жилая площадь', 'Площадь', 'Этажей в доме',\n",
    "       'Тип дома', 'Год постройки', 'Запланирован снос', 'Санузел', 'Ремонт', 'Статус', 'Высота потолков',\n",
    "       'Балкон или лоджия', 'Тёплый пол', 'Консьерж', 'Планировка', 'Ветка',\n",
    "       'Округ', 'Плотность населения', 'Загруженность шоссе', 'Пассажирский лифт',\n",
    "       'Площадь зеленых насаждений', 'Влияние объектов негативного воздействия']]\n",
    "    X['Высота этажа'] = X['Этаж']/X['Этажей в доме']\n",
    "    X['Высота этажа'] = X['Высота этажа'].map(lambda x: x if x <= 1 and x >= 0 else np.nan)\n",
    "    X['Пассажирский лифт'] = X['Пассажирский лифт'].replace('Нет', 0).astype(int)\n",
    "    y = np.log(df['Цена'])\n",
    "    \n",
    "    ordinary_cols = []\n",
    "    binary_cols = []\n",
    "    numeric_cols = []\n",
    "    for col in X.columns:\n",
    "        if type(X[col].loc[X[col].first_valid_index()]) == str:\n",
    "            ordinary_cols.append(col)\n",
    "        elif X[col].nunique() == 2:\n",
    "            binary_cols.append(col)\n",
    "        else:    \n",
    "            numeric_cols.append(col)\n",
    "    \n",
    "    X_train, X_test, y_train, y_test = train_test_split(X, y, test_size=0.3, \n",
    "                                            random_state=42, stratify=X['Количество комнат'])\n",
    "    \n",
    "    for col in numeric_cols:\n",
    "        X_train[col] = X_train[col].replace([np.inf, -np.inf], np.nan).fillna(X_train[col].mean())\n",
    "        X_test[col] = X_test[col].replace([np.inf, -np.inf], np.nan).fillna(X_test[col].mean())\n",
    "    \n",
    "    for col in ordinary_cols:\n",
    "        X_train[col] = X_train[col].fillna(X_train[col].mode())\n",
    "        X_test[col] = X_test[col].fillna(X_test[col].mode()) \n",
    "\n",
    "    ohe = OneHotEncoder(drop = 'first',sparse = False, handle_unknown = 'ignore') \n",
    "    ohe.fit(X_train[ordinary_cols])\n",
    "    ss = StandardScaler()\n",
    "    ss.fit(X_train[numeric_cols])\n",
    "    X_train = pd.concat([pd.DataFrame(ss.transform(X_train[numeric_cols]), columns = numeric_cols), \n",
    "        pd.DataFrame(ohe.transform(X_train[ordinary_cols]), columns = ohe.get_feature_names_out(ordinary_cols)),\n",
    "                         X_train[binary_cols].reset_index(drop = True)], axis = 1)\n",
    "\n",
    "    X_test = pd.concat([pd.DataFrame(ss.transform(X_test[numeric_cols]), columns = numeric_cols), \n",
    "        pd.DataFrame(ohe.transform(X_test[ordinary_cols]), columns = ohe.get_feature_names_out(ordinary_cols)),\n",
    "                         X_test[binary_cols].reset_index(drop = True)], axis = 1)\n",
    "    \n",
    "    return X_train, X_test, y_train, y_test\n",
    "    \n",
    "X_train, X_test, y_train, y_test = prepare_for_lr(DF)"
   ]
  },
  {
   "cell_type": "code",
   "execution_count": 80,
   "id": "2459e67b",
   "metadata": {},
   "outputs": [
    {
     "data": {
      "text/plain": [
       "0.8009691183590709"
      ]
     },
     "execution_count": 80,
     "metadata": {},
     "output_type": "execute_result"
    }
   ],
   "source": [
    "linreg = LinearRegression()\n",
    "linreg.fit(X_train, y_train)\n",
    "r2_score(linreg.predict(X_train), y_train)"
   ]
  },
  {
   "cell_type": "code",
   "execution_count": 81,
   "id": "d19f2488",
   "metadata": {},
   "outputs": [
    {
     "data": {
      "text/plain": [
       "0.8011654650739289"
      ]
     },
     "execution_count": 81,
     "metadata": {},
     "output_type": "execute_result"
    }
   ],
   "source": [
    "r2_score(linreg.predict(X_test), y_test)"
   ]
  },
  {
   "cell_type": "code",
   "execution_count": 95,
   "id": "498f3bac",
   "metadata": {},
   "outputs": [
    {
     "data": {
      "application/vnd.plotly.v1+json": {
       "config": {
        "plotlyServerURL": "https://plot.ly"
       },
       "data": [
        {
         "alignmentgroup": "True",
         "bingroup": "x",
         "histfunc": "sum",
         "hovertemplate": "index=%{x}<br>sum of y=%{y}<extra></extra>",
         "legendgroup": "",
         "marker": {
          "color": "#636efa",
          "pattern": {
           "shape": ""
          }
         },
         "name": "",
         "offsetgroup": "",
         "orientation": "v",
         "showlegend": false,
         "type": "histogram",
         "x": [
          "Этаж",
          "Площадь кухни",
          "Расстояние до метро",
          "Количество комнат",
          "Жилая площадь",
          "Площадь",
          "Этажей в доме",
          "Год постройки",
          "Высота потолков",
          "Плотность населения",
          "Загруженность шоссе",
          "Пассажирский лифт",
          "Площадь зеленых насаждений",
          "Влияние объектов негативного воздействия",
          "Высота этажа",
          "Тип дома_деревянный",
          "Тип дома_кирпичный",
          "Тип дома_монолитный",
          "Тип дома_панельный",
          "Санузел_совмещённый",
          "Санузел_совмещённый, раздельный",
          "Ремонт_евро",
          "Ремонт_есть",
          "Ремонт_капитальный",
          "Ремонт_косметический",
          "Ремонт_требуется",
          "Статус_Квартира",
          "Балкон или лоджия_балкон, лоджия",
          "Балкон или лоджия_лоджия",
          "Балкон или лоджия_нет",
          "Планировка_изолированные",
          "Планировка_изолированные, смежные",
          "Планировка_линейка",
          "Планировка_распашонка",
          "Планировка_смежные",
          "Планировка_студия",
          "Планировка_nan",
          "Ветка_Большая кольцевая линия",
          "Ветка_Бутовская линия Лёгкого метро",
          "Ветка_Замоскворецкая линия",
          "Ветка_Калининская линия",
          "Ветка_Калужско-Рижская линия",
          "Ветка_Каховская линия",
          "Ветка_Кольцевая линия",
          "Ветка_Люблинско-Дмитровская линия",
          "Ветка_Московская монорельсовая транспортная система",
          "Ветка_Московское центральное кольцо",
          "Ветка_Некрасовская линия",
          "Ветка_Серпуховско-Тимирязевская линия",
          "Ветка_Сокольническая линия",
          "Ветка_Солнцевская линия",
          "Ветка_Таганско-Краснопресненская линия",
          "Ветка_Филёвская линия",
          "Округ_ЗАО",
          "Округ_НАО",
          "Округ_САО",
          "Округ_СВАО",
          "Округ_СЗАО",
          "Округ_ЦАО",
          "Округ_ЮАО",
          "Округ_ЮВАО",
          "Округ_ЮЗАО",
          "Запланирован снос",
          "Тёплый пол",
          "Консьерж"
         ],
         "xaxis": "x",
         "y": [
          -0.0025299696617524328,
          0.03987030819736642,
          -0.018396612176796112,
          0.07986489442882791,
          -0.036753760722104484,
          0.39170960231948376,
          0.04356211291860261,
          0.024707185577075456,
          0.021462727697549144,
          -0.042609251920308386,
          0.01934768221762069,
          0.0036970452769859233,
          0.06103228253100697,
          -0.01894828750057069,
          0.03795508132191405,
          -0.02487499568348314,
          -0.01568465738397009,
          0.02834381447147452,
          -0.08965176767592996,
          0.011634977954580888,
          0.05411471845113609,
          -0.040668558975046426,
          -0.11438576686470446,
          -0.08832710568909007,
          -0.0976898078760821,
          -0.2140322062555668,
          0.2285997325811125,
          -0.09157101734876379,
          -0.0535176373718826,
          -0.035777489836862214,
          -0.0037945461638192526,
          0.027779399656751375,
          0.04735049272008203,
          -0.04729127298231951,
          0.04133521649340767,
          -0.08140712107794258,
          -0.04088706334901307,
          0.1360167927047063,
          -0.3023020752733304,
          -0.0036429195344044457,
          0.054972169822338574,
          0.034303358915587126,
          -0.010733936747531755,
          0.06529993907555337,
          -0.048152656277792416,
          0.1258182201316797,
          -0.008037366573314546,
          -0.1728805516258654,
          -0.02178748879227469,
          0.003166921408112859,
          0.06832749689266693,
          -0.03394508858725255,
          0.24389503672366641,
          0.04077539532931679,
          -0.2209952209986263,
          0.047668992154197704,
          0.02133360130158448,
          0.11196825053726439,
          0.306616269838423,
          0.044591962450111836,
          0.021800244684638946,
          0.09826863873805144,
          0.08289380327002548,
          0.029681120432090355,
          0.08934860115032187
         ],
         "yaxis": "y"
        }
       ],
       "layout": {
        "barmode": "relative",
        "height": 750,
        "legend": {
         "tracegroupgap": 0
        },
        "margin": {
         "t": 60
        },
        "template": {
         "data": {
          "bar": [
           {
            "error_x": {
             "color": "#2a3f5f"
            },
            "error_y": {
             "color": "#2a3f5f"
            },
            "marker": {
             "line": {
              "color": "#E5ECF6",
              "width": 0.5
             },
             "pattern": {
              "fillmode": "overlay",
              "size": 10,
              "solidity": 0.2
             }
            },
            "type": "bar"
           }
          ],
          "barpolar": [
           {
            "marker": {
             "line": {
              "color": "#E5ECF6",
              "width": 0.5
             },
             "pattern": {
              "fillmode": "overlay",
              "size": 10,
              "solidity": 0.2
             }
            },
            "type": "barpolar"
           }
          ],
          "carpet": [
           {
            "aaxis": {
             "endlinecolor": "#2a3f5f",
             "gridcolor": "white",
             "linecolor": "white",
             "minorgridcolor": "white",
             "startlinecolor": "#2a3f5f"
            },
            "baxis": {
             "endlinecolor": "#2a3f5f",
             "gridcolor": "white",
             "linecolor": "white",
             "minorgridcolor": "white",
             "startlinecolor": "#2a3f5f"
            },
            "type": "carpet"
           }
          ],
          "choropleth": [
           {
            "colorbar": {
             "outlinewidth": 0,
             "ticks": ""
            },
            "type": "choropleth"
           }
          ],
          "contour": [
           {
            "colorbar": {
             "outlinewidth": 0,
             "ticks": ""
            },
            "colorscale": [
             [
              0,
              "#0d0887"
             ],
             [
              0.1111111111111111,
              "#46039f"
             ],
             [
              0.2222222222222222,
              "#7201a8"
             ],
             [
              0.3333333333333333,
              "#9c179e"
             ],
             [
              0.4444444444444444,
              "#bd3786"
             ],
             [
              0.5555555555555556,
              "#d8576b"
             ],
             [
              0.6666666666666666,
              "#ed7953"
             ],
             [
              0.7777777777777778,
              "#fb9f3a"
             ],
             [
              0.8888888888888888,
              "#fdca26"
             ],
             [
              1,
              "#f0f921"
             ]
            ],
            "type": "contour"
           }
          ],
          "contourcarpet": [
           {
            "colorbar": {
             "outlinewidth": 0,
             "ticks": ""
            },
            "type": "contourcarpet"
           }
          ],
          "heatmap": [
           {
            "colorbar": {
             "outlinewidth": 0,
             "ticks": ""
            },
            "colorscale": [
             [
              0,
              "#0d0887"
             ],
             [
              0.1111111111111111,
              "#46039f"
             ],
             [
              0.2222222222222222,
              "#7201a8"
             ],
             [
              0.3333333333333333,
              "#9c179e"
             ],
             [
              0.4444444444444444,
              "#bd3786"
             ],
             [
              0.5555555555555556,
              "#d8576b"
             ],
             [
              0.6666666666666666,
              "#ed7953"
             ],
             [
              0.7777777777777778,
              "#fb9f3a"
             ],
             [
              0.8888888888888888,
              "#fdca26"
             ],
             [
              1,
              "#f0f921"
             ]
            ],
            "type": "heatmap"
           }
          ],
          "heatmapgl": [
           {
            "colorbar": {
             "outlinewidth": 0,
             "ticks": ""
            },
            "colorscale": [
             [
              0,
              "#0d0887"
             ],
             [
              0.1111111111111111,
              "#46039f"
             ],
             [
              0.2222222222222222,
              "#7201a8"
             ],
             [
              0.3333333333333333,
              "#9c179e"
             ],
             [
              0.4444444444444444,
              "#bd3786"
             ],
             [
              0.5555555555555556,
              "#d8576b"
             ],
             [
              0.6666666666666666,
              "#ed7953"
             ],
             [
              0.7777777777777778,
              "#fb9f3a"
             ],
             [
              0.8888888888888888,
              "#fdca26"
             ],
             [
              1,
              "#f0f921"
             ]
            ],
            "type": "heatmapgl"
           }
          ],
          "histogram": [
           {
            "marker": {
             "pattern": {
              "fillmode": "overlay",
              "size": 10,
              "solidity": 0.2
             }
            },
            "type": "histogram"
           }
          ],
          "histogram2d": [
           {
            "colorbar": {
             "outlinewidth": 0,
             "ticks": ""
            },
            "colorscale": [
             [
              0,
              "#0d0887"
             ],
             [
              0.1111111111111111,
              "#46039f"
             ],
             [
              0.2222222222222222,
              "#7201a8"
             ],
             [
              0.3333333333333333,
              "#9c179e"
             ],
             [
              0.4444444444444444,
              "#bd3786"
             ],
             [
              0.5555555555555556,
              "#d8576b"
             ],
             [
              0.6666666666666666,
              "#ed7953"
             ],
             [
              0.7777777777777778,
              "#fb9f3a"
             ],
             [
              0.8888888888888888,
              "#fdca26"
             ],
             [
              1,
              "#f0f921"
             ]
            ],
            "type": "histogram2d"
           }
          ],
          "histogram2dcontour": [
           {
            "colorbar": {
             "outlinewidth": 0,
             "ticks": ""
            },
            "colorscale": [
             [
              0,
              "#0d0887"
             ],
             [
              0.1111111111111111,
              "#46039f"
             ],
             [
              0.2222222222222222,
              "#7201a8"
             ],
             [
              0.3333333333333333,
              "#9c179e"
             ],
             [
              0.4444444444444444,
              "#bd3786"
             ],
             [
              0.5555555555555556,
              "#d8576b"
             ],
             [
              0.6666666666666666,
              "#ed7953"
             ],
             [
              0.7777777777777778,
              "#fb9f3a"
             ],
             [
              0.8888888888888888,
              "#fdca26"
             ],
             [
              1,
              "#f0f921"
             ]
            ],
            "type": "histogram2dcontour"
           }
          ],
          "mesh3d": [
           {
            "colorbar": {
             "outlinewidth": 0,
             "ticks": ""
            },
            "type": "mesh3d"
           }
          ],
          "parcoords": [
           {
            "line": {
             "colorbar": {
              "outlinewidth": 0,
              "ticks": ""
             }
            },
            "type": "parcoords"
           }
          ],
          "pie": [
           {
            "automargin": true,
            "type": "pie"
           }
          ],
          "scatter": [
           {
            "fillpattern": {
             "fillmode": "overlay",
             "size": 10,
             "solidity": 0.2
            },
            "type": "scatter"
           }
          ],
          "scatter3d": [
           {
            "line": {
             "colorbar": {
              "outlinewidth": 0,
              "ticks": ""
             }
            },
            "marker": {
             "colorbar": {
              "outlinewidth": 0,
              "ticks": ""
             }
            },
            "type": "scatter3d"
           }
          ],
          "scattercarpet": [
           {
            "marker": {
             "colorbar": {
              "outlinewidth": 0,
              "ticks": ""
             }
            },
            "type": "scattercarpet"
           }
          ],
          "scattergeo": [
           {
            "marker": {
             "colorbar": {
              "outlinewidth": 0,
              "ticks": ""
             }
            },
            "type": "scattergeo"
           }
          ],
          "scattergl": [
           {
            "marker": {
             "colorbar": {
              "outlinewidth": 0,
              "ticks": ""
             }
            },
            "type": "scattergl"
           }
          ],
          "scattermapbox": [
           {
            "marker": {
             "colorbar": {
              "outlinewidth": 0,
              "ticks": ""
             }
            },
            "type": "scattermapbox"
           }
          ],
          "scatterpolar": [
           {
            "marker": {
             "colorbar": {
              "outlinewidth": 0,
              "ticks": ""
             }
            },
            "type": "scatterpolar"
           }
          ],
          "scatterpolargl": [
           {
            "marker": {
             "colorbar": {
              "outlinewidth": 0,
              "ticks": ""
             }
            },
            "type": "scatterpolargl"
           }
          ],
          "scatterternary": [
           {
            "marker": {
             "colorbar": {
              "outlinewidth": 0,
              "ticks": ""
             }
            },
            "type": "scatterternary"
           }
          ],
          "surface": [
           {
            "colorbar": {
             "outlinewidth": 0,
             "ticks": ""
            },
            "colorscale": [
             [
              0,
              "#0d0887"
             ],
             [
              0.1111111111111111,
              "#46039f"
             ],
             [
              0.2222222222222222,
              "#7201a8"
             ],
             [
              0.3333333333333333,
              "#9c179e"
             ],
             [
              0.4444444444444444,
              "#bd3786"
             ],
             [
              0.5555555555555556,
              "#d8576b"
             ],
             [
              0.6666666666666666,
              "#ed7953"
             ],
             [
              0.7777777777777778,
              "#fb9f3a"
             ],
             [
              0.8888888888888888,
              "#fdca26"
             ],
             [
              1,
              "#f0f921"
             ]
            ],
            "type": "surface"
           }
          ],
          "table": [
           {
            "cells": {
             "fill": {
              "color": "#EBF0F8"
             },
             "line": {
              "color": "white"
             }
            },
            "header": {
             "fill": {
              "color": "#C8D4E3"
             },
             "line": {
              "color": "white"
             }
            },
            "type": "table"
           }
          ]
         },
         "layout": {
          "annotationdefaults": {
           "arrowcolor": "#2a3f5f",
           "arrowhead": 0,
           "arrowwidth": 1
          },
          "autotypenumbers": "strict",
          "coloraxis": {
           "colorbar": {
            "outlinewidth": 0,
            "ticks": ""
           }
          },
          "colorscale": {
           "diverging": [
            [
             0,
             "#8e0152"
            ],
            [
             0.1,
             "#c51b7d"
            ],
            [
             0.2,
             "#de77ae"
            ],
            [
             0.3,
             "#f1b6da"
            ],
            [
             0.4,
             "#fde0ef"
            ],
            [
             0.5,
             "#f7f7f7"
            ],
            [
             0.6,
             "#e6f5d0"
            ],
            [
             0.7,
             "#b8e186"
            ],
            [
             0.8,
             "#7fbc41"
            ],
            [
             0.9,
             "#4d9221"
            ],
            [
             1,
             "#276419"
            ]
           ],
           "sequential": [
            [
             0,
             "#0d0887"
            ],
            [
             0.1111111111111111,
             "#46039f"
            ],
            [
             0.2222222222222222,
             "#7201a8"
            ],
            [
             0.3333333333333333,
             "#9c179e"
            ],
            [
             0.4444444444444444,
             "#bd3786"
            ],
            [
             0.5555555555555556,
             "#d8576b"
            ],
            [
             0.6666666666666666,
             "#ed7953"
            ],
            [
             0.7777777777777778,
             "#fb9f3a"
            ],
            [
             0.8888888888888888,
             "#fdca26"
            ],
            [
             1,
             "#f0f921"
            ]
           ],
           "sequentialminus": [
            [
             0,
             "#0d0887"
            ],
            [
             0.1111111111111111,
             "#46039f"
            ],
            [
             0.2222222222222222,
             "#7201a8"
            ],
            [
             0.3333333333333333,
             "#9c179e"
            ],
            [
             0.4444444444444444,
             "#bd3786"
            ],
            [
             0.5555555555555556,
             "#d8576b"
            ],
            [
             0.6666666666666666,
             "#ed7953"
            ],
            [
             0.7777777777777778,
             "#fb9f3a"
            ],
            [
             0.8888888888888888,
             "#fdca26"
            ],
            [
             1,
             "#f0f921"
            ]
           ]
          },
          "colorway": [
           "#636efa",
           "#EF553B",
           "#00cc96",
           "#ab63fa",
           "#FFA15A",
           "#19d3f3",
           "#FF6692",
           "#B6E880",
           "#FF97FF",
           "#FECB52"
          ],
          "font": {
           "color": "#2a3f5f"
          },
          "geo": {
           "bgcolor": "white",
           "lakecolor": "white",
           "landcolor": "#E5ECF6",
           "showlakes": true,
           "showland": true,
           "subunitcolor": "white"
          },
          "hoverlabel": {
           "align": "left"
          },
          "hovermode": "closest",
          "mapbox": {
           "style": "light"
          },
          "paper_bgcolor": "white",
          "plot_bgcolor": "#E5ECF6",
          "polar": {
           "angularaxis": {
            "gridcolor": "white",
            "linecolor": "white",
            "ticks": ""
           },
           "bgcolor": "#E5ECF6",
           "radialaxis": {
            "gridcolor": "white",
            "linecolor": "white",
            "ticks": ""
           }
          },
          "scene": {
           "xaxis": {
            "backgroundcolor": "#E5ECF6",
            "gridcolor": "white",
            "gridwidth": 2,
            "linecolor": "white",
            "showbackground": true,
            "ticks": "",
            "zerolinecolor": "white"
           },
           "yaxis": {
            "backgroundcolor": "#E5ECF6",
            "gridcolor": "white",
            "gridwidth": 2,
            "linecolor": "white",
            "showbackground": true,
            "ticks": "",
            "zerolinecolor": "white"
           },
           "zaxis": {
            "backgroundcolor": "#E5ECF6",
            "gridcolor": "white",
            "gridwidth": 2,
            "linecolor": "white",
            "showbackground": true,
            "ticks": "",
            "zerolinecolor": "white"
           }
          },
          "shapedefaults": {
           "line": {
            "color": "#2a3f5f"
           }
          },
          "ternary": {
           "aaxis": {
            "gridcolor": "white",
            "linecolor": "white",
            "ticks": ""
           },
           "baxis": {
            "gridcolor": "white",
            "linecolor": "white",
            "ticks": ""
           },
           "bgcolor": "#E5ECF6",
           "caxis": {
            "gridcolor": "white",
            "linecolor": "white",
            "ticks": ""
           }
          },
          "title": {
           "x": 0.05
          },
          "xaxis": {
           "automargin": true,
           "gridcolor": "white",
           "linecolor": "white",
           "ticks": "",
           "title": {
            "standoff": 15
           },
           "zerolinecolor": "white",
           "zerolinewidth": 2
          },
          "yaxis": {
           "automargin": true,
           "gridcolor": "white",
           "linecolor": "white",
           "ticks": "",
           "title": {
            "standoff": 15
           },
           "zerolinecolor": "white",
           "zerolinewidth": 2
          }
         }
        },
        "width": 1500,
        "xaxis": {
         "anchor": "y",
         "domain": [
          0,
          1
         ],
         "title": {
          "text": "index"
         }
        },
        "yaxis": {
         "anchor": "x",
         "domain": [
          0,
          1
         ],
         "title": {
          "text": "sum of y"
         }
        }
       }
      },
      "text/html": [
       "<div>                            <div id=\"892bfc0b-cdc4-4293-8d07-fe5897be2791\" class=\"plotly-graph-div\" style=\"height:750px; width:1500px;\"></div>            <script type=\"text/javascript\">                require([\"plotly\"], function(Plotly) {                    window.PLOTLYENV=window.PLOTLYENV || {};                                    if (document.getElementById(\"892bfc0b-cdc4-4293-8d07-fe5897be2791\")) {                    Plotly.newPlot(                        \"892bfc0b-cdc4-4293-8d07-fe5897be2791\",                        [{\"alignmentgroup\":\"True\",\"bingroup\":\"x\",\"histfunc\":\"sum\",\"hovertemplate\":\"index=%{x}<br>sum of y=%{y}<extra></extra>\",\"legendgroup\":\"\",\"marker\":{\"color\":\"#636efa\",\"pattern\":{\"shape\":\"\"}},\"name\":\"\",\"offsetgroup\":\"\",\"orientation\":\"v\",\"showlegend\":false,\"x\":[\"\\u042d\\u0442\\u0430\\u0436\",\"\\u041f\\u043b\\u043e\\u0449\\u0430\\u0434\\u044c \\u043a\\u0443\\u0445\\u043d\\u0438\",\"\\u0420\\u0430\\u0441\\u0441\\u0442\\u043e\\u044f\\u043d\\u0438\\u0435 \\u0434\\u043e \\u043c\\u0435\\u0442\\u0440\\u043e\",\"\\u041a\\u043e\\u043b\\u0438\\u0447\\u0435\\u0441\\u0442\\u0432\\u043e \\u043a\\u043e\\u043c\\u043d\\u0430\\u0442\",\"\\u0416\\u0438\\u043b\\u0430\\u044f \\u043f\\u043b\\u043e\\u0449\\u0430\\u0434\\u044c\",\"\\u041f\\u043b\\u043e\\u0449\\u0430\\u0434\\u044c\",\"\\u042d\\u0442\\u0430\\u0436\\u0435\\u0439 \\u0432 \\u0434\\u043e\\u043c\\u0435\",\"\\u0413\\u043e\\u0434 \\u043f\\u043e\\u0441\\u0442\\u0440\\u043e\\u0439\\u043a\\u0438\",\"\\u0412\\u044b\\u0441\\u043e\\u0442\\u0430 \\u043f\\u043e\\u0442\\u043e\\u043b\\u043a\\u043e\\u0432\",\"\\u041f\\u043b\\u043e\\u0442\\u043d\\u043e\\u0441\\u0442\\u044c \\u043d\\u0430\\u0441\\u0435\\u043b\\u0435\\u043d\\u0438\\u044f\",\"\\u0417\\u0430\\u0433\\u0440\\u0443\\u0436\\u0435\\u043d\\u043d\\u043e\\u0441\\u0442\\u044c \\u0448\\u043e\\u0441\\u0441\\u0435\",\"\\u041f\\u0430\\u0441\\u0441\\u0430\\u0436\\u0438\\u0440\\u0441\\u043a\\u0438\\u0439 \\u043b\\u0438\\u0444\\u0442\",\"\\u041f\\u043b\\u043e\\u0449\\u0430\\u0434\\u044c \\u0437\\u0435\\u043b\\u0435\\u043d\\u044b\\u0445 \\u043d\\u0430\\u0441\\u0430\\u0436\\u0434\\u0435\\u043d\\u0438\\u0439\",\"\\u0412\\u043b\\u0438\\u044f\\u043d\\u0438\\u0435 \\u043e\\u0431\\u044a\\u0435\\u043a\\u0442\\u043e\\u0432 \\u043d\\u0435\\u0433\\u0430\\u0442\\u0438\\u0432\\u043d\\u043e\\u0433\\u043e \\u0432\\u043e\\u0437\\u0434\\u0435\\u0439\\u0441\\u0442\\u0432\\u0438\\u044f\",\"\\u0412\\u044b\\u0441\\u043e\\u0442\\u0430 \\u044d\\u0442\\u0430\\u0436\\u0430\",\"\\u0422\\u0438\\u043f \\u0434\\u043e\\u043c\\u0430_\\u0434\\u0435\\u0440\\u0435\\u0432\\u044f\\u043d\\u043d\\u044b\\u0439\",\"\\u0422\\u0438\\u043f \\u0434\\u043e\\u043c\\u0430_\\u043a\\u0438\\u0440\\u043f\\u0438\\u0447\\u043d\\u044b\\u0439\",\"\\u0422\\u0438\\u043f \\u0434\\u043e\\u043c\\u0430_\\u043c\\u043e\\u043d\\u043e\\u043b\\u0438\\u0442\\u043d\\u044b\\u0439\",\"\\u0422\\u0438\\u043f \\u0434\\u043e\\u043c\\u0430_\\u043f\\u0430\\u043d\\u0435\\u043b\\u044c\\u043d\\u044b\\u0439\",\"\\u0421\\u0430\\u043d\\u0443\\u0437\\u0435\\u043b_\\u0441\\u043e\\u0432\\u043c\\u0435\\u0449\\u0451\\u043d\\u043d\\u044b\\u0439\",\"\\u0421\\u0430\\u043d\\u0443\\u0437\\u0435\\u043b_\\u0441\\u043e\\u0432\\u043c\\u0435\\u0449\\u0451\\u043d\\u043d\\u044b\\u0439, \\u0440\\u0430\\u0437\\u0434\\u0435\\u043b\\u044c\\u043d\\u044b\\u0439\",\"\\u0420\\u0435\\u043c\\u043e\\u043d\\u0442_\\u0435\\u0432\\u0440\\u043e\",\"\\u0420\\u0435\\u043c\\u043e\\u043d\\u0442_\\u0435\\u0441\\u0442\\u044c\",\"\\u0420\\u0435\\u043c\\u043e\\u043d\\u0442_\\u043a\\u0430\\u043f\\u0438\\u0442\\u0430\\u043b\\u044c\\u043d\\u044b\\u0439\",\"\\u0420\\u0435\\u043c\\u043e\\u043d\\u0442_\\u043a\\u043e\\u0441\\u043c\\u0435\\u0442\\u0438\\u0447\\u0435\\u0441\\u043a\\u0438\\u0439\",\"\\u0420\\u0435\\u043c\\u043e\\u043d\\u0442_\\u0442\\u0440\\u0435\\u0431\\u0443\\u0435\\u0442\\u0441\\u044f\",\"\\u0421\\u0442\\u0430\\u0442\\u0443\\u0441_\\u041a\\u0432\\u0430\\u0440\\u0442\\u0438\\u0440\\u0430\",\"\\u0411\\u0430\\u043b\\u043a\\u043e\\u043d \\u0438\\u043b\\u0438 \\u043b\\u043e\\u0434\\u0436\\u0438\\u044f_\\u0431\\u0430\\u043b\\u043a\\u043e\\u043d, \\u043b\\u043e\\u0434\\u0436\\u0438\\u044f\",\"\\u0411\\u0430\\u043b\\u043a\\u043e\\u043d \\u0438\\u043b\\u0438 \\u043b\\u043e\\u0434\\u0436\\u0438\\u044f_\\u043b\\u043e\\u0434\\u0436\\u0438\\u044f\",\"\\u0411\\u0430\\u043b\\u043a\\u043e\\u043d \\u0438\\u043b\\u0438 \\u043b\\u043e\\u0434\\u0436\\u0438\\u044f_\\u043d\\u0435\\u0442\",\"\\u041f\\u043b\\u0430\\u043d\\u0438\\u0440\\u043e\\u0432\\u043a\\u0430_\\u0438\\u0437\\u043e\\u043b\\u0438\\u0440\\u043e\\u0432\\u0430\\u043d\\u043d\\u044b\\u0435\",\"\\u041f\\u043b\\u0430\\u043d\\u0438\\u0440\\u043e\\u0432\\u043a\\u0430_\\u0438\\u0437\\u043e\\u043b\\u0438\\u0440\\u043e\\u0432\\u0430\\u043d\\u043d\\u044b\\u0435, \\u0441\\u043c\\u0435\\u0436\\u043d\\u044b\\u0435\",\"\\u041f\\u043b\\u0430\\u043d\\u0438\\u0440\\u043e\\u0432\\u043a\\u0430_\\u043b\\u0438\\u043d\\u0435\\u0439\\u043a\\u0430\",\"\\u041f\\u043b\\u0430\\u043d\\u0438\\u0440\\u043e\\u0432\\u043a\\u0430_\\u0440\\u0430\\u0441\\u043f\\u0430\\u0448\\u043e\\u043d\\u043a\\u0430\",\"\\u041f\\u043b\\u0430\\u043d\\u0438\\u0440\\u043e\\u0432\\u043a\\u0430_\\u0441\\u043c\\u0435\\u0436\\u043d\\u044b\\u0435\",\"\\u041f\\u043b\\u0430\\u043d\\u0438\\u0440\\u043e\\u0432\\u043a\\u0430_\\u0441\\u0442\\u0443\\u0434\\u0438\\u044f\",\"\\u041f\\u043b\\u0430\\u043d\\u0438\\u0440\\u043e\\u0432\\u043a\\u0430_nan\",\"\\u0412\\u0435\\u0442\\u043a\\u0430_\\u0411\\u043e\\u043b\\u044c\\u0448\\u0430\\u044f \\u043a\\u043e\\u043b\\u044c\\u0446\\u0435\\u0432\\u0430\\u044f \\u043b\\u0438\\u043d\\u0438\\u044f\",\"\\u0412\\u0435\\u0442\\u043a\\u0430_\\u0411\\u0443\\u0442\\u043e\\u0432\\u0441\\u043a\\u0430\\u044f \\u043b\\u0438\\u043d\\u0438\\u044f \\u041b\\u0451\\u0433\\u043a\\u043e\\u0433\\u043e \\u043c\\u0435\\u0442\\u0440\\u043e\",\"\\u0412\\u0435\\u0442\\u043a\\u0430_\\u0417\\u0430\\u043c\\u043e\\u0441\\u043a\\u0432\\u043e\\u0440\\u0435\\u0446\\u043a\\u0430\\u044f \\u043b\\u0438\\u043d\\u0438\\u044f\",\"\\u0412\\u0435\\u0442\\u043a\\u0430_\\u041a\\u0430\\u043b\\u0438\\u043d\\u0438\\u043d\\u0441\\u043a\\u0430\\u044f \\u043b\\u0438\\u043d\\u0438\\u044f\",\"\\u0412\\u0435\\u0442\\u043a\\u0430_\\u041a\\u0430\\u043b\\u0443\\u0436\\u0441\\u043a\\u043e-\\u0420\\u0438\\u0436\\u0441\\u043a\\u0430\\u044f \\u043b\\u0438\\u043d\\u0438\\u044f\",\"\\u0412\\u0435\\u0442\\u043a\\u0430_\\u041a\\u0430\\u0445\\u043e\\u0432\\u0441\\u043a\\u0430\\u044f \\u043b\\u0438\\u043d\\u0438\\u044f\",\"\\u0412\\u0435\\u0442\\u043a\\u0430_\\u041a\\u043e\\u043b\\u044c\\u0446\\u0435\\u0432\\u0430\\u044f \\u043b\\u0438\\u043d\\u0438\\u044f\",\"\\u0412\\u0435\\u0442\\u043a\\u0430_\\u041b\\u044e\\u0431\\u043b\\u0438\\u043d\\u0441\\u043a\\u043e-\\u0414\\u043c\\u0438\\u0442\\u0440\\u043e\\u0432\\u0441\\u043a\\u0430\\u044f \\u043b\\u0438\\u043d\\u0438\\u044f\",\"\\u0412\\u0435\\u0442\\u043a\\u0430_\\u041c\\u043e\\u0441\\u043a\\u043e\\u0432\\u0441\\u043a\\u0430\\u044f \\u043c\\u043e\\u043d\\u043e\\u0440\\u0435\\u043b\\u044c\\u0441\\u043e\\u0432\\u0430\\u044f \\u0442\\u0440\\u0430\\u043d\\u0441\\u043f\\u043e\\u0440\\u0442\\u043d\\u0430\\u044f \\u0441\\u0438\\u0441\\u0442\\u0435\\u043c\\u0430\",\"\\u0412\\u0435\\u0442\\u043a\\u0430_\\u041c\\u043e\\u0441\\u043a\\u043e\\u0432\\u0441\\u043a\\u043e\\u0435 \\u0446\\u0435\\u043d\\u0442\\u0440\\u0430\\u043b\\u044c\\u043d\\u043e\\u0435 \\u043a\\u043e\\u043b\\u044c\\u0446\\u043e\",\"\\u0412\\u0435\\u0442\\u043a\\u0430_\\u041d\\u0435\\u043a\\u0440\\u0430\\u0441\\u043e\\u0432\\u0441\\u043a\\u0430\\u044f \\u043b\\u0438\\u043d\\u0438\\u044f\",\"\\u0412\\u0435\\u0442\\u043a\\u0430_\\u0421\\u0435\\u0440\\u043f\\u0443\\u0445\\u043e\\u0432\\u0441\\u043a\\u043e-\\u0422\\u0438\\u043c\\u0438\\u0440\\u044f\\u0437\\u0435\\u0432\\u0441\\u043a\\u0430\\u044f \\u043b\\u0438\\u043d\\u0438\\u044f\",\"\\u0412\\u0435\\u0442\\u043a\\u0430_\\u0421\\u043e\\u043a\\u043e\\u043b\\u044c\\u043d\\u0438\\u0447\\u0435\\u0441\\u043a\\u0430\\u044f \\u043b\\u0438\\u043d\\u0438\\u044f\",\"\\u0412\\u0435\\u0442\\u043a\\u0430_\\u0421\\u043e\\u043b\\u043d\\u0446\\u0435\\u0432\\u0441\\u043a\\u0430\\u044f \\u043b\\u0438\\u043d\\u0438\\u044f\",\"\\u0412\\u0435\\u0442\\u043a\\u0430_\\u0422\\u0430\\u0433\\u0430\\u043d\\u0441\\u043a\\u043e-\\u041a\\u0440\\u0430\\u0441\\u043d\\u043e\\u043f\\u0440\\u0435\\u0441\\u043d\\u0435\\u043d\\u0441\\u043a\\u0430\\u044f \\u043b\\u0438\\u043d\\u0438\\u044f\",\"\\u0412\\u0435\\u0442\\u043a\\u0430_\\u0424\\u0438\\u043b\\u0451\\u0432\\u0441\\u043a\\u0430\\u044f \\u043b\\u0438\\u043d\\u0438\\u044f\",\"\\u041e\\u043a\\u0440\\u0443\\u0433_\\u0417\\u0410\\u041e\",\"\\u041e\\u043a\\u0440\\u0443\\u0433_\\u041d\\u0410\\u041e\",\"\\u041e\\u043a\\u0440\\u0443\\u0433_\\u0421\\u0410\\u041e\",\"\\u041e\\u043a\\u0440\\u0443\\u0433_\\u0421\\u0412\\u0410\\u041e\",\"\\u041e\\u043a\\u0440\\u0443\\u0433_\\u0421\\u0417\\u0410\\u041e\",\"\\u041e\\u043a\\u0440\\u0443\\u0433_\\u0426\\u0410\\u041e\",\"\\u041e\\u043a\\u0440\\u0443\\u0433_\\u042e\\u0410\\u041e\",\"\\u041e\\u043a\\u0440\\u0443\\u0433_\\u042e\\u0412\\u0410\\u041e\",\"\\u041e\\u043a\\u0440\\u0443\\u0433_\\u042e\\u0417\\u0410\\u041e\",\"\\u0417\\u0430\\u043f\\u043b\\u0430\\u043d\\u0438\\u0440\\u043e\\u0432\\u0430\\u043d \\u0441\\u043d\\u043e\\u0441\",\"\\u0422\\u0451\\u043f\\u043b\\u044b\\u0439 \\u043f\\u043e\\u043b\",\"\\u041a\\u043e\\u043d\\u0441\\u044c\\u0435\\u0440\\u0436\"],\"xaxis\":\"x\",\"y\":[-0.0025299696617524328,0.03987030819736642,-0.018396612176796112,0.07986489442882791,-0.036753760722104484,0.39170960231948376,0.04356211291860261,0.024707185577075456,0.021462727697549144,-0.042609251920308386,0.01934768221762069,0.0036970452769859233,0.06103228253100697,-0.01894828750057069,0.03795508132191405,-0.02487499568348314,-0.01568465738397009,0.02834381447147452,-0.08965176767592996,0.011634977954580888,0.05411471845113609,-0.040668558975046426,-0.11438576686470446,-0.08832710568909007,-0.0976898078760821,-0.2140322062555668,0.2285997325811125,-0.09157101734876379,-0.0535176373718826,-0.035777489836862214,-0.0037945461638192526,0.027779399656751375,0.04735049272008203,-0.04729127298231951,0.04133521649340767,-0.08140712107794258,-0.04088706334901307,0.1360167927047063,-0.3023020752733304,-0.0036429195344044457,0.054972169822338574,0.034303358915587126,-0.010733936747531755,0.06529993907555337,-0.048152656277792416,0.1258182201316797,-0.008037366573314546,-0.1728805516258654,-0.02178748879227469,0.003166921408112859,0.06832749689266693,-0.03394508858725255,0.24389503672366641,0.04077539532931679,-0.2209952209986263,0.047668992154197704,0.02133360130158448,0.11196825053726439,0.306616269838423,0.044591962450111836,0.021800244684638946,0.09826863873805144,0.08289380327002548,0.029681120432090355,0.08934860115032187],\"yaxis\":\"y\",\"type\":\"histogram\"}],                        {\"template\":{\"data\":{\"histogram2dcontour\":[{\"type\":\"histogram2dcontour\",\"colorbar\":{\"outlinewidth\":0,\"ticks\":\"\"},\"colorscale\":[[0.0,\"#0d0887\"],[0.1111111111111111,\"#46039f\"],[0.2222222222222222,\"#7201a8\"],[0.3333333333333333,\"#9c179e\"],[0.4444444444444444,\"#bd3786\"],[0.5555555555555556,\"#d8576b\"],[0.6666666666666666,\"#ed7953\"],[0.7777777777777778,\"#fb9f3a\"],[0.8888888888888888,\"#fdca26\"],[1.0,\"#f0f921\"]]}],\"choropleth\":[{\"type\":\"choropleth\",\"colorbar\":{\"outlinewidth\":0,\"ticks\":\"\"}}],\"histogram2d\":[{\"type\":\"histogram2d\",\"colorbar\":{\"outlinewidth\":0,\"ticks\":\"\"},\"colorscale\":[[0.0,\"#0d0887\"],[0.1111111111111111,\"#46039f\"],[0.2222222222222222,\"#7201a8\"],[0.3333333333333333,\"#9c179e\"],[0.4444444444444444,\"#bd3786\"],[0.5555555555555556,\"#d8576b\"],[0.6666666666666666,\"#ed7953\"],[0.7777777777777778,\"#fb9f3a\"],[0.8888888888888888,\"#fdca26\"],[1.0,\"#f0f921\"]]}],\"heatmap\":[{\"type\":\"heatmap\",\"colorbar\":{\"outlinewidth\":0,\"ticks\":\"\"},\"colorscale\":[[0.0,\"#0d0887\"],[0.1111111111111111,\"#46039f\"],[0.2222222222222222,\"#7201a8\"],[0.3333333333333333,\"#9c179e\"],[0.4444444444444444,\"#bd3786\"],[0.5555555555555556,\"#d8576b\"],[0.6666666666666666,\"#ed7953\"],[0.7777777777777778,\"#fb9f3a\"],[0.8888888888888888,\"#fdca26\"],[1.0,\"#f0f921\"]]}],\"heatmapgl\":[{\"type\":\"heatmapgl\",\"colorbar\":{\"outlinewidth\":0,\"ticks\":\"\"},\"colorscale\":[[0.0,\"#0d0887\"],[0.1111111111111111,\"#46039f\"],[0.2222222222222222,\"#7201a8\"],[0.3333333333333333,\"#9c179e\"],[0.4444444444444444,\"#bd3786\"],[0.5555555555555556,\"#d8576b\"],[0.6666666666666666,\"#ed7953\"],[0.7777777777777778,\"#fb9f3a\"],[0.8888888888888888,\"#fdca26\"],[1.0,\"#f0f921\"]]}],\"contourcarpet\":[{\"type\":\"contourcarpet\",\"colorbar\":{\"outlinewidth\":0,\"ticks\":\"\"}}],\"contour\":[{\"type\":\"contour\",\"colorbar\":{\"outlinewidth\":0,\"ticks\":\"\"},\"colorscale\":[[0.0,\"#0d0887\"],[0.1111111111111111,\"#46039f\"],[0.2222222222222222,\"#7201a8\"],[0.3333333333333333,\"#9c179e\"],[0.4444444444444444,\"#bd3786\"],[0.5555555555555556,\"#d8576b\"],[0.6666666666666666,\"#ed7953\"],[0.7777777777777778,\"#fb9f3a\"],[0.8888888888888888,\"#fdca26\"],[1.0,\"#f0f921\"]]}],\"surface\":[{\"type\":\"surface\",\"colorbar\":{\"outlinewidth\":0,\"ticks\":\"\"},\"colorscale\":[[0.0,\"#0d0887\"],[0.1111111111111111,\"#46039f\"],[0.2222222222222222,\"#7201a8\"],[0.3333333333333333,\"#9c179e\"],[0.4444444444444444,\"#bd3786\"],[0.5555555555555556,\"#d8576b\"],[0.6666666666666666,\"#ed7953\"],[0.7777777777777778,\"#fb9f3a\"],[0.8888888888888888,\"#fdca26\"],[1.0,\"#f0f921\"]]}],\"mesh3d\":[{\"type\":\"mesh3d\",\"colorbar\":{\"outlinewidth\":0,\"ticks\":\"\"}}],\"scatter\":[{\"fillpattern\":{\"fillmode\":\"overlay\",\"size\":10,\"solidity\":0.2},\"type\":\"scatter\"}],\"parcoords\":[{\"type\":\"parcoords\",\"line\":{\"colorbar\":{\"outlinewidth\":0,\"ticks\":\"\"}}}],\"scatterpolargl\":[{\"type\":\"scatterpolargl\",\"marker\":{\"colorbar\":{\"outlinewidth\":0,\"ticks\":\"\"}}}],\"bar\":[{\"error_x\":{\"color\":\"#2a3f5f\"},\"error_y\":{\"color\":\"#2a3f5f\"},\"marker\":{\"line\":{\"color\":\"#E5ECF6\",\"width\":0.5},\"pattern\":{\"fillmode\":\"overlay\",\"size\":10,\"solidity\":0.2}},\"type\":\"bar\"}],\"scattergeo\":[{\"type\":\"scattergeo\",\"marker\":{\"colorbar\":{\"outlinewidth\":0,\"ticks\":\"\"}}}],\"scatterpolar\":[{\"type\":\"scatterpolar\",\"marker\":{\"colorbar\":{\"outlinewidth\":0,\"ticks\":\"\"}}}],\"histogram\":[{\"marker\":{\"pattern\":{\"fillmode\":\"overlay\",\"size\":10,\"solidity\":0.2}},\"type\":\"histogram\"}],\"scattergl\":[{\"type\":\"scattergl\",\"marker\":{\"colorbar\":{\"outlinewidth\":0,\"ticks\":\"\"}}}],\"scatter3d\":[{\"type\":\"scatter3d\",\"line\":{\"colorbar\":{\"outlinewidth\":0,\"ticks\":\"\"}},\"marker\":{\"colorbar\":{\"outlinewidth\":0,\"ticks\":\"\"}}}],\"scattermapbox\":[{\"type\":\"scattermapbox\",\"marker\":{\"colorbar\":{\"outlinewidth\":0,\"ticks\":\"\"}}}],\"scatterternary\":[{\"type\":\"scatterternary\",\"marker\":{\"colorbar\":{\"outlinewidth\":0,\"ticks\":\"\"}}}],\"scattercarpet\":[{\"type\":\"scattercarpet\",\"marker\":{\"colorbar\":{\"outlinewidth\":0,\"ticks\":\"\"}}}],\"carpet\":[{\"aaxis\":{\"endlinecolor\":\"#2a3f5f\",\"gridcolor\":\"white\",\"linecolor\":\"white\",\"minorgridcolor\":\"white\",\"startlinecolor\":\"#2a3f5f\"},\"baxis\":{\"endlinecolor\":\"#2a3f5f\",\"gridcolor\":\"white\",\"linecolor\":\"white\",\"minorgridcolor\":\"white\",\"startlinecolor\":\"#2a3f5f\"},\"type\":\"carpet\"}],\"table\":[{\"cells\":{\"fill\":{\"color\":\"#EBF0F8\"},\"line\":{\"color\":\"white\"}},\"header\":{\"fill\":{\"color\":\"#C8D4E3\"},\"line\":{\"color\":\"white\"}},\"type\":\"table\"}],\"barpolar\":[{\"marker\":{\"line\":{\"color\":\"#E5ECF6\",\"width\":0.5},\"pattern\":{\"fillmode\":\"overlay\",\"size\":10,\"solidity\":0.2}},\"type\":\"barpolar\"}],\"pie\":[{\"automargin\":true,\"type\":\"pie\"}]},\"layout\":{\"autotypenumbers\":\"strict\",\"colorway\":[\"#636efa\",\"#EF553B\",\"#00cc96\",\"#ab63fa\",\"#FFA15A\",\"#19d3f3\",\"#FF6692\",\"#B6E880\",\"#FF97FF\",\"#FECB52\"],\"font\":{\"color\":\"#2a3f5f\"},\"hovermode\":\"closest\",\"hoverlabel\":{\"align\":\"left\"},\"paper_bgcolor\":\"white\",\"plot_bgcolor\":\"#E5ECF6\",\"polar\":{\"bgcolor\":\"#E5ECF6\",\"angularaxis\":{\"gridcolor\":\"white\",\"linecolor\":\"white\",\"ticks\":\"\"},\"radialaxis\":{\"gridcolor\":\"white\",\"linecolor\":\"white\",\"ticks\":\"\"}},\"ternary\":{\"bgcolor\":\"#E5ECF6\",\"aaxis\":{\"gridcolor\":\"white\",\"linecolor\":\"white\",\"ticks\":\"\"},\"baxis\":{\"gridcolor\":\"white\",\"linecolor\":\"white\",\"ticks\":\"\"},\"caxis\":{\"gridcolor\":\"white\",\"linecolor\":\"white\",\"ticks\":\"\"}},\"coloraxis\":{\"colorbar\":{\"outlinewidth\":0,\"ticks\":\"\"}},\"colorscale\":{\"sequential\":[[0.0,\"#0d0887\"],[0.1111111111111111,\"#46039f\"],[0.2222222222222222,\"#7201a8\"],[0.3333333333333333,\"#9c179e\"],[0.4444444444444444,\"#bd3786\"],[0.5555555555555556,\"#d8576b\"],[0.6666666666666666,\"#ed7953\"],[0.7777777777777778,\"#fb9f3a\"],[0.8888888888888888,\"#fdca26\"],[1.0,\"#f0f921\"]],\"sequentialminus\":[[0.0,\"#0d0887\"],[0.1111111111111111,\"#46039f\"],[0.2222222222222222,\"#7201a8\"],[0.3333333333333333,\"#9c179e\"],[0.4444444444444444,\"#bd3786\"],[0.5555555555555556,\"#d8576b\"],[0.6666666666666666,\"#ed7953\"],[0.7777777777777778,\"#fb9f3a\"],[0.8888888888888888,\"#fdca26\"],[1.0,\"#f0f921\"]],\"diverging\":[[0,\"#8e0152\"],[0.1,\"#c51b7d\"],[0.2,\"#de77ae\"],[0.3,\"#f1b6da\"],[0.4,\"#fde0ef\"],[0.5,\"#f7f7f7\"],[0.6,\"#e6f5d0\"],[0.7,\"#b8e186\"],[0.8,\"#7fbc41\"],[0.9,\"#4d9221\"],[1,\"#276419\"]]},\"xaxis\":{\"gridcolor\":\"white\",\"linecolor\":\"white\",\"ticks\":\"\",\"title\":{\"standoff\":15},\"zerolinecolor\":\"white\",\"automargin\":true,\"zerolinewidth\":2},\"yaxis\":{\"gridcolor\":\"white\",\"linecolor\":\"white\",\"ticks\":\"\",\"title\":{\"standoff\":15},\"zerolinecolor\":\"white\",\"automargin\":true,\"zerolinewidth\":2},\"scene\":{\"xaxis\":{\"backgroundcolor\":\"#E5ECF6\",\"gridcolor\":\"white\",\"linecolor\":\"white\",\"showbackground\":true,\"ticks\":\"\",\"zerolinecolor\":\"white\",\"gridwidth\":2},\"yaxis\":{\"backgroundcolor\":\"#E5ECF6\",\"gridcolor\":\"white\",\"linecolor\":\"white\",\"showbackground\":true,\"ticks\":\"\",\"zerolinecolor\":\"white\",\"gridwidth\":2},\"zaxis\":{\"backgroundcolor\":\"#E5ECF6\",\"gridcolor\":\"white\",\"linecolor\":\"white\",\"showbackground\":true,\"ticks\":\"\",\"zerolinecolor\":\"white\",\"gridwidth\":2}},\"shapedefaults\":{\"line\":{\"color\":\"#2a3f5f\"}},\"annotationdefaults\":{\"arrowcolor\":\"#2a3f5f\",\"arrowhead\":0,\"arrowwidth\":1},\"geo\":{\"bgcolor\":\"white\",\"landcolor\":\"#E5ECF6\",\"subunitcolor\":\"white\",\"showland\":true,\"showlakes\":true,\"lakecolor\":\"white\"},\"title\":{\"x\":0.05},\"mapbox\":{\"style\":\"light\"}}},\"xaxis\":{\"anchor\":\"y\",\"domain\":[0.0,1.0],\"title\":{\"text\":\"index\"}},\"yaxis\":{\"anchor\":\"x\",\"domain\":[0.0,1.0],\"title\":{\"text\":\"sum of y\"}},\"legend\":{\"tracegroupgap\":0},\"margin\":{\"t\":60},\"barmode\":\"relative\",\"height\":750,\"width\":1500},                        {\"responsive\": true}                    ).then(function(){\n",
       "                            \n",
       "var gd = document.getElementById('892bfc0b-cdc4-4293-8d07-fe5897be2791');\n",
       "var x = new MutationObserver(function (mutations, observer) {{\n",
       "        var display = window.getComputedStyle(gd).display;\n",
       "        if (!display || display === 'none') {{\n",
       "            console.log([gd, 'removed!']);\n",
       "            Plotly.purge(gd);\n",
       "            observer.disconnect();\n",
       "        }}\n",
       "}});\n",
       "\n",
       "// Listen for the removal of the full notebook cells\n",
       "var notebookContainer = gd.closest('#notebook-container');\n",
       "if (notebookContainer) {{\n",
       "    x.observe(notebookContainer, {childList: true});\n",
       "}}\n",
       "\n",
       "// Listen for the clearing of the current output cell\n",
       "var outputEl = gd.closest('.output');\n",
       "if (outputEl) {{\n",
       "    x.observe(outputEl, {childList: true});\n",
       "}}\n",
       "\n",
       "                        })                };                });            </script>        </div>"
      ]
     },
     "metadata": {},
     "output_type": "display_data"
    }
   ],
   "source": [
    "import plotly.express as px\n",
    "coef = pd.Series(linreg.coef_, index = X_train.columns)\n",
    "px.histogram(coef, x = coef.index, y = coef.values, height = 750, width = 1500)"
   ]
  },
  {
   "cell_type": "code",
   "execution_count": null,
   "id": "e4879995",
   "metadata": {},
   "outputs": [],
   "source": []
  }
 ],
 "metadata": {
  "kernelspec": {
   "display_name": "Python 3 (ipykernel)",
   "language": "python",
   "name": "python3"
  },
  "language_info": {
   "codemirror_mode": {
    "name": "ipython",
    "version": 3
   },
   "file_extension": ".py",
   "mimetype": "text/x-python",
   "name": "python",
   "nbconvert_exporter": "python",
   "pygments_lexer": "ipython3",
   "version": "3.9.13"
  }
 },
 "nbformat": 4,
 "nbformat_minor": 5
}
