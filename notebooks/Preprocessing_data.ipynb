{
 "cells": [
  {
   "cell_type": "code",
   "execution_count": 1,
   "id": "e7c0d4ba",
   "metadata": {},
   "outputs": [],
   "source": [
    "import numpy as np\n",
    "import pandas as pd\n",
    "import re\n",
    "import pickle"
   ]
  },
  {
   "cell_type": "code",
   "execution_count": 2,
   "id": "ebbdad74",
   "metadata": {},
   "outputs": [],
   "source": [
    "def read_pickle(file):\n",
    "    data = []\n",
    "    try:\n",
    "        while True:\n",
    "            data.append(pickle.load(file))\n",
    "    except EOFError:\n",
    "        pass\n",
    "    return data\n",
    "\n",
    "\n",
    "with open('flats_data.pickle', 'rb') as f:\n",
    "    DF = pd.DataFrame(read_pickle(f))"
   ]
  },
  {
   "cell_type": "code",
   "execution_count": 3,
   "id": "5fcf2721",
   "metadata": {},
   "outputs": [
    {
     "data": {
      "text/plain": [
       "Cсылка                 1113378\n",
       "Цена                   1113378\n",
       "Время загрузки         1113378\n",
       "Ближайшее метро        1113378\n",
       "Адрес                  1112017\n",
       "Этаж                   1113148\n",
       "Площадь кухни           939012\n",
       "Расстояние до метро    1113378\n",
       "Количество комнат      1108678\n",
       "Описание               1113346\n",
       "Жилая площадь           893688\n",
       "Вид объекта            1113378\n",
       "Площадь                1113149\n",
       "Город                  1113378\n",
       "Регион                 1113378\n",
       "ID                     1113378\n",
       "Тип объявления         1113378\n",
       "Этажей в доме          1113129\n",
       "Срок сдачи              206557\n",
       "lat                    1113376\n",
       "lng                    1113376\n",
       "Тип дома                 85483\n",
       "Название ЖК             192000\n",
       "О доме                  148742\n",
       "О квартире              148742\n",
       "dtype: int64"
      ]
     },
     "execution_count": 3,
     "metadata": {},
     "output_type": "execute_result"
    }
   ],
   "source": [
    "DF.count()"
   ]
  },
  {
   "cell_type": "code",
   "execution_count": 4,
   "id": "cc77f359",
   "metadata": {},
   "outputs": [],
   "source": [
    "def get_remont(string):\n",
    "    if re.search('ремонт|отделк', string.lower()):\n",
    "        return string.lower()\n",
    "\n",
    "def get_year_of_const(string):\n",
    "    if re.search('постройки|г[.]п[.]', string.lower()):\n",
    "        return string.lower()\n",
    "\n",
    "def get_view(string):\n",
    "    if re.search('вид |окон|окна', string.lower()):\n",
    "        return string.lower()\n",
    "\n",
    "def get_balkony(string):\n",
    "    if re.search('лоджи|балкон', string.lower()):\n",
    "        return string.lower()\n",
    "\n",
    "def get_ceiling(string):\n",
    "    if re.search('потол', string.lower()):\n",
    "        return string.lower()\n",
    "\n",
    "def get_type_bath(string):\n",
    "    if re.search(r'сануз|с/у', string.lower()):\n",
    "        return string.lower()\n",
    "\n",
    "def get_consierj(string):\n",
    "    if len(re.findall('консьерж', string.lower())) > 0:\n",
    "        return 1\n",
    "\n",
    "def get_house_type(string):\n",
    "    search = re.findall('панельный|монолитный|кирпичный|блочный|деревянный', string.lower())\n",
    "    if len(search) > 0:\n",
    "        return search[0]\n",
    "\n",
    "def get_layout(string):\n",
    "    if re.search('планировк', string.lower()):\n",
    "        return string.lower()\n",
    "    \n",
    "def get_add_info(description):\n",
    "    string_list = re.split('[.,!;][\\s]|[\\n]', description)\n",
    "    cols = ['Ремонт', 'Год постройки', 'Вид из окон', 'Балкон или лоджия', \n",
    "            'Высота потолков', 'Санузел', 'Консьерж', 'Тип дома', 'Планировка']\n",
    "    functions = dict(zip(cols, [get_remont, get_year_of_const, get_view, get_balkony, \n",
    "                                get_ceiling, get_type_bath, get_consierj, get_house_type, get_layout]))\n",
    "    dict_ind = dict([(col, True) for col in cols])\n",
    "    dict_params = {}\n",
    "    for string in string_list:\n",
    "        for col, ind in dict_ind.items():\n",
    "            if ind:\n",
    "                result = functions[col](string)\n",
    "                if result is not None:\n",
    "                    dict_params[col] = result\n",
    "                    dict_ind[col] = False\n",
    "    return dict_params\n",
    "\n",
    "def get_add_info_df(Series):\n",
    "    return pd.DataFrame([get_add_info(desc) for desc in Series.astype(str)])"
   ]
  },
  {
   "cell_type": "code",
   "execution_count": 5,
   "id": "616ea211",
   "metadata": {},
   "outputs": [],
   "source": [
    "descr_DF = get_add_info_df(DF['Описание'])"
   ]
  },
  {
   "cell_type": "code",
   "execution_count": 6,
   "id": "45459fbc",
   "metadata": {},
   "outputs": [
    {
     "data": {
      "text/plain": [
       "Вид из окон          494213\n",
       "Высота потолков      222763\n",
       "Ремонт               669070\n",
       "Планировка           307030\n",
       "Балкон или лоджия    378454\n",
       "Санузел              393150\n",
       "Консьерж             108924\n",
       "Год постройки         80594\n",
       "Тип дома              86335\n",
       "dtype: int64"
      ]
     },
     "execution_count": 6,
     "metadata": {},
     "output_type": "execute_result"
    }
   ],
   "source": [
    "descr_DF.count()"
   ]
  },
  {
   "cell_type": "code",
   "execution_count": 7,
   "id": "cc38ea5b",
   "metadata": {},
   "outputs": [],
   "source": [
    "def get_findall(pattern, s, ans):\n",
    "    if type(s) == str:\n",
    "        find_list = re.findall(pattern, s)\n",
    "        if len(find_list) > 0:\n",
    "            return [ans]\n",
    "    return s\n",
    "    \n",
    "def clean_val(obj):\n",
    "    if type(obj) == list and len(obj) > 0:\n",
    "        return obj[0]\n",
    "    else:\n",
    "        return None\n",
    "    \n",
    "def proc_desc_df(df):\n",
    "    df = df.copy()\n",
    "    df['Ремонт'] = df['Ремонт'].map(lambda s: get_findall('с отделк|с ремонт|сделан|чистов', s, 'есть'), na_action='ignore')\n",
    "    df['Ремонт'] = df['Ремонт'].map(lambda s: get_findall('чернов| нет|требует|без |отсутств', s, 'требуется'), na_action='ignore')\n",
    "    df['Ремонт'] = df['Ремонт'].map(lambda s: get_findall('косметическ', s, 'косметический'), na_action='ignore')\n",
    "    df['Ремонт'] = df['Ремонт'].map(lambda s: get_findall('отличн|современ|хорош|качеств|евро|свежи', s, 'евро'), na_action='ignore')\n",
    "    df['Ремонт'] = df['Ремонт'].map(lambda s: get_findall('авторск|дизайн', s, 'дизайнерский'), na_action='ignore')\n",
    "    df['Ремонт'] = df['Ремонт'].map(lambda s: get_findall('капитальн', s, 'капитальный'), na_action='ignore')\n",
    "    \n",
    "    df['Вид из окон'] = df['Вид из окон'].map(lambda s: get_findall('сквер|парк|реку', s, 'на природу'), na_action='ignore')\n",
    "    df['Вид из окон'] = df['Вид из окон'].map(lambda s: get_findall('двор', s, 'во двор'), na_action='ignore')\n",
    "    df['Вид из окон'] = df['Вид из окон'].map(lambda s: get_findall('на улиц', s, 'на улицу'), na_action='ignore')\n",
    "    df['Вид из окон'] = df['Вид из окон'].map(lambda s: get_findall('живопис|красив|прекрасн|великолеп|хорош', s, 'красивый'), na_action='ignore')\n",
    "    \n",
    "    df['Балкон или лоджия'] = df['Балкон или лоджия'].map(lambda s: get_findall(' нет|отсутств', s, 'нет'), na_action='ignore')\n",
    "    df['Балкон или лоджия'] = df['Балкон или лоджия'].map(lambda s: get_findall('балкон', s, 'балкон'), na_action='ignore')\n",
    "    df['Балкон или лоджия'] = df['Балкон или лоджия'].map(lambda s: get_findall('лоджи', s, 'лоджия'), na_action='ignore')\n",
    "    \n",
    "    df['Высота потолков'] = df['Высота потолков'].map(lambda s: re.findall('\\d{1,2}[.,]?\\d{,2}', s), na_action='ignore')   \n",
    "    df['Год постройки'] = df['Год постройки'].map(lambda s: re.findall('\\d{2,4}', s), na_action='ignore')\n",
    "    \n",
    "    df['Санузел'] = df['Санузел'].map(lambda s: get_findall('совме|смежн', s, 'совмещённый'), na_action='ignore')\n",
    "    df['Санузел'] = df['Санузел'].map(lambda s: get_findall('изолир|раздел', s, 'раздельный'), na_action='ignore')\n",
    "    \n",
    "    df['Планировка'] = df['Планировка'].map(lambda s: get_findall('совмещ|смежн', s, 'смежные'), na_action='ignore')\n",
    "    df['Планировка'] = df['Планировка'].map(lambda s: get_findall('изолир|раздел', s, 'изолированные'), na_action='ignore')\n",
    "    df['Планировка'] = df['Планировка'].map(lambda s: get_findall('распашон', s, 'распашонка'), na_action='ignore')\n",
    "    df['Планировка'] = df['Планировка'].map(lambda s: get_findall('линей', s, 'линейка'), na_action='ignore')\n",
    "    df['Планировка'] = df['Планировка'].map(lambda s: get_findall('евро', s, 'евродвушка'), na_action='ignore')\n",
    "    df['Планировка'] = df['Планировка'].map(lambda s: get_findall('студ', s, 'студия'), na_action='ignore')\n",
    "    \n",
    "    for col in ['Ремонт', 'Год постройки', 'Вид из окон', 'Балкон или лоджия', 'Высота потолков', 'Санузел', 'Планировка']:\n",
    "        df[col] = df[col].map(clean_val, na_action='ignore') \n",
    "    \n",
    "    return df"
   ]
  },
  {
   "cell_type": "code",
   "execution_count": 8,
   "id": "203c2ea0",
   "metadata": {},
   "outputs": [],
   "source": [
    "new_descr_DF = proc_desc_df(descr_DF)"
   ]
  },
  {
   "cell_type": "code",
   "execution_count": 9,
   "id": "9045b654",
   "metadata": {},
   "outputs": [
    {
     "data": {
      "text/plain": [
       "Вид из окон          295394\n",
       "Высота потолков       76070\n",
       "Ремонт               132162\n",
       "Планировка           257691\n",
       "Балкон или лоджия         0\n",
       "Санузел              183121\n",
       "Консьерж                  0\n",
       "Год постройки         14086\n",
       "Тип дома                  0\n",
       "dtype: int64"
      ]
     },
     "execution_count": 9,
     "metadata": {},
     "output_type": "execute_result"
    }
   ],
   "source": [
    "descr_DF.count() - new_descr_DF.count()"
   ]
  },
  {
   "cell_type": "code",
   "execution_count": 11,
   "id": "7baa1dd7",
   "metadata": {},
   "outputs": [],
   "source": [
    "import json\n",
    "\n",
    "def str_to_json(string):\n",
    "    if type(string) == str:\n",
    "        try:\n",
    "            return json.loads(string.replace(\"'\", '\"').replace('\\\\xa0', ' '))\n",
    "        except:\n",
    "            return {}\n",
    "    elif type(string) == dict:\n",
    "        return dict([(key,value.replace('\\\\xa0', ' ')) for key, value in string.items()])\n",
    "    else:\n",
    "        return {}\n",
    "    \n",
    "def get_view_value(string):\n",
    "    find = [pattern.lower() for pattern in ['На солнечную сторону', 'На улицу', 'Во двор'] if re.search(pattern, string)]\n",
    "    if len(find) > 0:\n",
    "        return find[0]\n",
    "\n",
    "def get_year_from_col(s):\n",
    "    if type(s) == str:\n",
    "        year = re.findall('d{4}', s) \n",
    "        if len(year) > 0:\n",
    "            return year[0]\n",
    "        else:\n",
    "            return np.nan\n",
    "    else:\n",
    "        return s\n",
    "\n",
    "def get_year(y):\n",
    "    if y < 23:\n",
    "        return 2000+y\n",
    "    elif y < 100:\n",
    "        return 1900+y\n",
    "    elif  1800 < y < 2023:\n",
    "        return y\n",
    "    else:\n",
    "        return np.nan\n",
    "\n",
    "def prepr_metro(string):\n",
    "    string = re.sub('[(].+[)]|станция ','', string).strip().lower()\n",
    "    for item, value in zip(['пр-т', 'б-р', 'им.', 'ё', 'ул. ', 'ул.', 'ш.', 'пл. ', 'пл.' 'ниетест'], \n",
    "                           ['проспект', 'бульвар', 'имени', 'е', 'улица ', 'улица ', 'шоссе ', 'площадь', 'площадь ', 'ние']):\n",
    "        string = string.replace(item, value)\n",
    "    return string\n",
    "\n",
    "def transform_df(df, descr_df):\n",
    "    df = df.copy()\n",
    "    add_df = pd.concat([pd.DataFrame(list(df[col].map(lambda x: str_to_json(x)).values)) \n",
    "                        for col in ['О доме', 'О квартире']], axis = 1).rename(columns = \n",
    "                {'Общая площадь': 'Площадь', 'Высота потолков, м': 'Высота потолков', 'Окна': 'Вид из окон'})\n",
    "    #print(add_df)\n",
    "    for col in ['Двор', 'Мебель', 'Техника', 'В доме', 'Парковка']:\n",
    "        for val in set(', '.join([i for i in add_df[col].unique() if type(i) == str]).split(', ')):\n",
    "            add_df[val] = add_df[col].map(lambda s: 1 if len(re.findall(val, s)) > 0 else 0, na_action='ignore')\n",
    "        add_df = add_df.drop(columns=col)\n",
    "    add_df['Вид из окон'] = add_df['Вид из окон'].map(get_view_value, na_action='ignore')\n",
    "    add_df['Планировка'] = descr_df['Планировка'].fillna(add_df['Тип комнат'])\n",
    "    add_df = add_df.drop(columns = 'Тип комнат')\n",
    "    \n",
    "    for col in descr_df.columns:\n",
    "        if col in add_df.columns:\n",
    "            add_df[col] = add_df[col].map(lambda s: s.lower() if type(s)==str else s, \n",
    "                                          na_action = 'ignore').fillna(descr_df[col])\n",
    "        else:\n",
    "            add_df[col] = descr_df[col]\n",
    "            \n",
    "    for col in add_df.columns:\n",
    "        if col in df.columns:\n",
    "            df[col] = df[col].map(lambda s: s.lower() if type(s)==str else s, \n",
    "                                          na_action = 'ignore').fillna(add_df[col])\n",
    "        else:\n",
    "            df[col] = add_df[col]\n",
    "    \n",
    "    df['Тёплый пол'] = df['Тёплый пол'].replace('Есть', 1).fillna(0)\n",
    "    df['Высота потолков'] = df['Высота потолков'].map(lambda s: s.replace(',', '.') \n",
    "                        if type(s)==str else s).astype(float).map(lambda h: h if h < 10 else np.nan)\n",
    "    \n",
    "    df['Год постройки'] = df['Год постройки'].astype(float, errors = 'ignore').map(lambda s:\n",
    "        get_year(s), na_action='ignore').fillna(df['Срок сдачи'].map(lambda s: get_year_from_col(s), \n",
    "                                        na_action = 'ignore')).astype(float, errors = 'ignore')\n",
    "    df['Запланирован снос'] = df['Запланирован снос'].replace('Да', 1).fillna(0)\n",
    "    \n",
    "    df['Ближайшее метро'] = df['Ближайшее метро'].map(prepr_metro, na_action = 'ignore')\n",
    "    df = df.drop(columns = ['О доме', 'О квартире', 'Название ЖК', 'Плита', 'Микроволновка', 'Срок сдачи', 'Описание'])\n",
    "    \n",
    "    return df"
   ]
  },
  {
   "cell_type": "code",
   "execution_count": 12,
   "id": "11ec8a26",
   "metadata": {},
   "outputs": [],
   "source": [
    "new_DF = transform_df(DF, new_descr_DF)"
   ]
  },
  {
   "cell_type": "code",
   "execution_count": null,
   "id": "7c2d4f3f",
   "metadata": {},
   "outputs": [],
   "source": [
    "new_DF"
   ]
  },
  {
   "cell_type": "code",
   "execution_count": 13,
   "id": "0030afa4",
   "metadata": {
    "scrolled": false
   },
   "outputs": [
    {
     "data": {
      "text/plain": [
       "Cсылка                     1113378\n",
       "Цена                       1113378\n",
       "Время загрузки             1113378\n",
       "Ближайшее метро            1113378\n",
       "Адрес                      1112017\n",
       "Этаж                       1113148\n",
       "Площадь кухни               939012\n",
       "Расстояние до метро        1113378\n",
       "Количество комнат          1108678\n",
       "Жилая площадь               893688\n",
       "Вид объекта                1113378\n",
       "Площадь                    1113149\n",
       "Город                      1113378\n",
       "Регион                     1113378\n",
       "ID                         1113378\n",
       "Тип объявления             1113378\n",
       "Этажей в доме              1113129\n",
       "lat                        1113376\n",
       "lng                        1113376\n",
       "Тип дома                    296979\n",
       "Год постройки               217239\n",
       "Пассажирский лифт            85841\n",
       "Грузовой лифт                60788\n",
       "Запланирован снос          1113378\n",
       "Санузел                     320445\n",
       "Ремонт                      610802\n",
       "Статус                      148742\n",
       "Высота потолков             195845\n",
       "Вид из окон                 198819\n",
       "Способ продажи              148222\n",
       "Балкон или лоджия           415980\n",
       "Вид сделки                   78980\n",
       "Тёплый пол                 1113378\n",
       "Спортивная площадка          80053\n",
       "Детская площадка             80053\n",
       "Закрытая территория          80053\n",
       "Спальные места               34060\n",
       "Кухня                        34060\n",
       "Хранение одежды              34060\n",
       "Посудомоечная машина         28510\n",
       "Кондиционер                  28510\n",
       "Утюг                         28510\n",
       "Водонагреватель              28510\n",
       "Фен                          28510\n",
       "Холодильник                  28510\n",
       "Телевизор                    28510\n",
       "Стиральная машина            28510\n",
       "Газ                          68222\n",
       "Консьерж                    170890\n",
       "Мусоропровод                 68222\n",
       "Подземная                    83284\n",
       "За шлагбаумом во дворе       83284\n",
       "Открытая во дворе            83284\n",
       "Наземная многоуровневая      83284\n",
       "Планировка                  126875\n",
       "dtype: int64"
      ]
     },
     "execution_count": 13,
     "metadata": {},
     "output_type": "execute_result"
    }
   ],
   "source": [
    "new_DF.count()"
   ]
  },
  {
   "cell_type": "code",
   "execution_count": 14,
   "id": "3291dede",
   "metadata": {},
   "outputs": [],
   "source": [
    "new_DF.to_csv('preprocessing_flats.csv')"
   ]
  },
  {
   "cell_type": "code",
   "execution_count": null,
   "id": "417f156b",
   "metadata": {},
   "outputs": [],
   "source": []
  }
 ],
 "metadata": {
  "kernelspec": {
   "display_name": "Python 3 (ipykernel)",
   "language": "python",
   "name": "python3"
  },
  "language_info": {
   "codemirror_mode": {
    "name": "ipython",
    "version": 3
   },
   "file_extension": ".py",
   "mimetype": "text/x-python",
   "name": "python",
   "nbconvert_exporter": "python",
   "pygments_lexer": "ipython3",
   "version": "3.9.13"
  }
 },
 "nbformat": 4,
 "nbformat_minor": 5
}
